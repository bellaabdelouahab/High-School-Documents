{
 "cells": [
  {
   "cell_type": "markdown",
   "metadata": {},
   "source": [
    "## TP - POO en Python"
   ]
  },
  {
   "cell_type": "markdown",
   "metadata": {},
   "source": [
    "### Exercice 1\n",
    "#### Partie 1"
   ]
  },
  {
   "cell_type": "markdown",
   "metadata": {},
   "source": [
    "Considérons une classe appelée **Point** ayant les attributs suivants :\n",
    "- x : un attribut de type float\n",
    "- y : un attribut de type float"
   ]
  },
  {
   "cell_type": "markdown",
   "metadata": {},
   "source": [
    "1. Définissez la classe **Point** et un constructeur à deux paramètres\n",
    "2. Définissez les getters et setters pour les deux attributs.\n",
    "3. Définissez la méthode **\\_\\_str__()** qui retourne la représentation mathématique d’un point : (x,y).\n",
    "4. Ecrivez la méthode **calculer_distance(self, p)** qui permet de calculer la distance entre le point de l’objet courant (self) et l’objet **p** passé en paramètre.\n",
    "5. Ecrivez la méthode **calculer_milieu(self, p)** qui permet de calculer et de retourner un objet correspondant au milieu du segment défini par le point de l’objet courant (self) et l’objet Point **p** passé en paramètre."
   ]
  },
  {
   "cell_type": "code",
   "execution_count": 1,
   "metadata": {},
   "outputs": [],
   "source": [
    "class Point:\n",
    "    def __init__(self,a=0,b=0):\n",
    "        self.x=a\n",
    "        self.y=b\n",
    "    def getx(self):\n",
    "        return self.x\n",
    "    def setx(self,a):\n",
    "        self.x=a\n",
    "    def gety(self):\n",
    "        return self.y\n",
    "    def sety(self,b):\n",
    "        self.y=b\n",
    "    def __str__(self):\n",
    "        return \"(\"+str(self.x)+\",\"+str(self.y)+\")\"\n",
    "    def calculer_distance(self, p):\n",
    "        return ((self.x-p.x)**2+(self.y-p.y)**2)**0.5\n",
    "    def calculer_milieu(self, p):\n",
    "        x=(self.x+p.x)/2\n",
    "        y=(self.y+p.y)/2\n",
    "        return Point(x,y)"
   ]
  },
  {
   "cell_type": "code",
   "execution_count": 2,
   "metadata": {},
   "outputs": [
    {
     "name": "stdout",
     "output_type": "stream",
     "text": [
      "(0.0,3.0)\n"
     ]
    }
   ],
   "source": [
    "p=Point(2,3)\n",
    "m=Point(-2,3)\n",
    "print(p.calculer_milieu(m))"
   ]
  },
  {
   "cell_type": "markdown",
   "metadata": {},
   "source": [
    "#### Partie 2\n",
    "Consid´erons maintenant une deuxième classe appelée **TroisPoints** ayant comme attributs **trois objets de type Point (p1,p2 et p3).**\n",
    "6. Définissez cette classe et un constructeur acceptant trois paramètres (par défaut le point (0,0)).\n",
    "7. Ecrivez une méthode **sont_alignes(self)** qui retourne True si les trois points p1, p2 et p3 sont alignés, False sinon. Nous rappelons que trois points A, B et C sont alignés si **AB = AC + BC, AC = AB + BC ou BC = AC + AB**.\n",
    "8. Ecrivez une méthode **est_isocele(self)** qui retourne True si les trois points p1, p2 et p3 forment un triangle isocèle, False sinon. Nous rappelons qu’un triangle ABC est isocèle si **AB = AC ou AB = BC ou BC = AC.**\n"
   ]
  },
  {
   "cell_type": "code",
   "execution_count": 10,
   "metadata": {},
   "outputs": [],
   "source": [
    "class TroisPoints:\n",
    "    def __init__(self,a=Point(0,0),b=Point(0,0),c=Point(0,0)):\n",
    "        self.p1=a\n",
    "        self.p2=b\n",
    "        self.p3=c\n",
    "    def sont_alignes(self):\n",
    "        AB=self.p1.calculer_distance(self.p2)\n",
    "        AC=self.p1.calculer_distance(self.p3)\n",
    "        BC=self.p2.calculer_distance(self.p3)\n",
    "        if AB==AC+BC or AC==AB+BC or BC==AC+AB:\n",
    "            return True\n",
    "        return False\n",
    "    def est_isocele(self):\n",
    "        if not self.sont_alignes():\n",
    "            AB=self.p1.calculer_distance(self.p2)\n",
    "            AC=self.p1.calculer_distance(self.p3)\n",
    "            BC=self.p2.calculer_distance(self.p3)\n",
    "            if AB==AC or AC==BC or BC==AB:\n",
    "                return True\n",
    "            return False"
   ]
  },
  {
   "cell_type": "code",
   "execution_count": 11,
   "metadata": {},
   "outputs": [
    {
     "data": {
      "text/plain": [
       "True"
      ]
     },
     "execution_count": 11,
     "metadata": {},
     "output_type": "execute_result"
    }
   ],
   "source": [
    "T=TroisPoints(p,m)\n",
    "T.est_isocele()"
   ]
  },
  {
   "cell_type": "markdown",
   "metadata": {},
   "source": [
    "### Exercice 2"
   ]
  },
  {
   "cell_type": "markdown",
   "metadata": {},
   "source": [
    "Considérons les deux classes **Personne** et **Adresse**. Les attributs de la classe Adresse sont :\n",
    "- **rue** : un attribut de type chaîne de caractères.\n",
    "- **ville** : un attribut de type chaîne de caractères.\n",
    "- **code postal** : un attribut de type entier.\n",
    "\n",
    "Les attributs de la classe **Personne** sont :\n",
    "- **nom** : un attribut de type chaîne de caractères.\n",
    "- **sexe** : un attribut de type chaîne de caractères (cet attribut aura comme valeur soit ’M’ soit ’F’).\n",
    "- **adresse** : un attribut de type objet de la classe Adresse.\n"
   ]
  },
  {
   "cell_type": "markdown",
   "metadata": {},
   "source": [
    "1. Créez les deux classes **Adresse** et **Personne**. N'oubliez pas de définir la méthode **\\_\\_repr__**."
   ]
  },
  {
   "cell_type": "code",
   "execution_count": 42,
   "metadata": {},
   "outputs": [],
   "source": [
    "class Adresse:\n",
    "\tdef __init__(self,a,b,c):\n",
    "\t\tself.rue=a\n",
    "\t\tself.ville=b\n",
    "\t\tself.codepost=c\n",
    "\tdef __repr__(self):\n",
    "\t\treturn \"{} {} {}\".format(self.rue,self.ville,self.codepost)\n",
    "\n",
    "\n",
    "class Personne:\n",
    "\tdef __init__(self,a,b,c):\n",
    "\t\tself.nom=a\n",
    "\t\tself.sexe=b\n",
    "\t\tself.adresse=c\n",
    "\tdef __repr__(self):\n",
    "\t\treturn \"{} {} {}\".format(self.nom,self.sexe,self.adresse)"
   ]
  },
  {
   "cell_type": "markdown",
   "metadata": {},
   "source": [
    "2. Créez une troisième classe **ListePersonnes** ayant un seul attribut **Pers** : une liste d’objets Personne(initialement vide). Définissez les getters/setters et la méthode **\\_\\_repr__**.\n",
    "\n",
    "\n",
    "3. Ecrivez la méthode **find_by_nom(self,s) qui permet de chercher dans le tableau personnes si l’attribut nom d’un est égal à la valeur du paramètre **s**. Si c’est le cas, elle retourne le premier objet correspondant, sinon **None**.\n",
    "\n",
    "\n",
    "4. Ecrivez la méthode **exists_code_postal(self,cp) qui permet de vérifier dans le tableau personnes si un objet possède une adresse dont le code postal égal au paramètre **cp**. Si c’est le cas, elle retourne **True**, sinon **False**.\n",
    "\n",
    "\n",
    "5. Ecrivez la méthode **count_personne_ville(self,ville)** qui permet de calculer le nombre d’objets dans le tableau personnes ayant une adresse dans la ville passée en paramètre.\n",
    "\n",
    "\n",
    "6. Ecrivez la méthode **edit_personne_nom(self, oldNom, newNom)** qui remplace les noms de personnes ayant un nom égal à la valeur oldNom par newNom.\n",
    "\n",
    "\n",
    "7. Ecrivez la méthode **edit_personne_ville(self, nom, newVille)** qui remplace les villes de personnes ayant un nom égal à la valeur du paramètre nom par newVille.\n",
    "\n",
    "\n",
    "8. Testez toutes les méthodes réalisées dans les questions précédentes."
   ]
  },
  {
   "cell_type": "code",
   "execution_count": 43,
   "metadata": {},
   "outputs": [],
   "source": [
    "class ListePersonne:\n",
    "\tdef __init__(self):\n",
    "\t\tself.Pers=[]\n",
    "\tdef setPersonne(self,p):\n",
    "\t\tself.Pers.append(p)\n",
    "\tdef getPersonne(self,i=-1):\n",
    "\t\treturn self.Pers.pop(i)\n",
    "\tdef find_by_nom(self,s):\n",
    "\t\tfor e in self.Pers:\n",
    "\t\t\tif e.nom==s:\n",
    "\t\t\t\treturn e\n",
    "\t\treturn None\n",
    "\tdef exists_code_postal(self,cp):\n",
    "\t\tfor e in self.Pers:\n",
    "\t\t\tif e.adresse.codepost==cp:\n",
    "\t\t\t\treturn True\n",
    "\t\treturn False\n",
    "\tdef count_personne_ville(self,ville):\n",
    "\t\tnb=0\n",
    "\t\tfor e in self.Pers:\n",
    "\t\t\tif e.adresse.ville==ville:\n",
    "\t\t\t\tnb+=1\n",
    "\t\treturn nb\n",
    "\tdef edit_personne_nom(self,oldNom,newNom):\n",
    "\t\tk=0\n",
    "\t\tfor e in self.Pers:\n",
    "\t\t\tif e.nom==oldNom:\n",
    "\t\t\t\te.nom=newNom\n",
    "\t\t\t\tk+=1\n",
    "\t\treturn \"{} modifications faites\".format(k)\n",
    "\tdef edit_personne_ville(self,nom,newVille):\n",
    "\t\tk=0\n",
    "\t\tfor e in self.Pers:\n",
    "\t\t\tif e.nom==nom:\n",
    "\t\t\t\te.adresse.ville=newVille\n",
    "\t\t\t\tk+=1\n",
    "\t\treturn \"{} modifications faites\".format(k)"
   ]
  },
  {
   "cell_type": "code",
   "execution_count": 39,
   "metadata": {},
   "outputs": [],
   "source": [
    "L=ListePersonne()\n",
    "a1=Adresse(\"Qods\",\"Essaouira\",44000)\n",
    "a2=Adresse(\"Targa\",\"Marrakech\",40000)\n",
    "p1=Personne(\"Ali\",\"M\",a1)\n",
    "p2=Personne(\"Sara\",\"F\",a2)\n",
    "L.setPersonne(p1)\n",
    "L.setPersonne(p2)"
   ]
  },
  {
   "cell_type": "code",
   "execution_count": 40,
   "metadata": {},
   "outputs": [
    {
     "data": {
      "text/plain": [
       "'1 modifications faites'"
      ]
     },
     "execution_count": 40,
     "metadata": {},
     "output_type": "execute_result"
    }
   ],
   "source": [
    "L.edit_personne_ville(\"Sara\",\"Rabat\")"
   ]
  },
  {
   "cell_type": "code",
   "execution_count": null,
   "metadata": {},
   "outputs": [],
   "source": []
  }
 ],
 "metadata": {
  "kernelspec": {
   "display_name": "Python 3",
   "language": "python",
   "name": "python3"
  },
  "language_info": {
   "codemirror_mode": {
    "name": "ipython",
    "version": 3
   },
   "file_extension": ".py",
   "mimetype": "text/x-python",
   "name": "python",
   "nbconvert_exporter": "python",
   "pygments_lexer": "ipython3",
   "version": "3.7.6"
  }
 },
 "nbformat": 4,
 "nbformat_minor": 4
}
