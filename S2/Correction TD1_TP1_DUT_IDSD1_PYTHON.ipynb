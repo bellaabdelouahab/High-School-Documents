{
 "cells": [
  {
   "cell_type": "markdown",
   "metadata": {},
   "source": [
    "## Entrée / Sorties \\& Structures conditionnelles"
   ]
  },
  {
   "cell_type": "markdown",
   "metadata": {},
   "source": [
    "**Exercice 1 :**<br> \n",
    "Écrire un programme permettant de lire la température exprimée en degré Celsius de la console, la convertit en Fahrenheit et affiche le résultat.<br>\n",
    "**N.B : La formule utilisée pour la conversion est la suivante :**\n",
    "$$fahrenheit = \\dfrac{9}{5} \\times celsius + 32.$$"
   ]
  },
  {
   "cell_type": "code",
   "execution_count": 3,
   "metadata": {},
   "outputs": [
    {
     "name": "stdout",
     "output_type": "stream",
     "text": [
      "donner le degré celsius: 22\n",
      "l'équivalent en Fahrenheit est :  71.6\n"
     ]
    }
   ],
   "source": [
    "c=float(input(\"donner le degré celsius: \"))\n",
    "f=9/5*c+32\n",
    "print(\"l'équivalent en Fahrenheit est : \",f)"
   ]
  },
  {
   "cell_type": "markdown",
   "metadata": {},
   "source": [
    "**Exercice 2 :**<br> \n",
    "Écrire un programme permettant de calculer la distance entre deux points $A(x_A,y_A)$ et $B(x_B,y_B)$ dont les coordonnées sont saisies au clavier."
   ]
  },
  {
   "cell_type": "code",
   "execution_count": 4,
   "metadata": {},
   "outputs": [
    {
     "name": "stdout",
     "output_type": "stream",
     "text": [
      "donner xA: 1\n",
      "donner yA: 3\n",
      "donner xB: 5\n",
      "donner yB: -2\n",
      "la distance est AB : 6.4031242374328485\n"
     ]
    }
   ],
   "source": [
    "xa=float(input(\"donner xA: \"))\n",
    "ya=float(input(\"donner yA: \"))\n",
    "xb=float(input(\"donner xB: \"))\n",
    "yb=float(input(\"donner yB: \"))\n",
    "dist=((xa-xb)**2+(ya-yb)**2)**0.5\n",
    "print(\"la distance est AB :\",dist)"
   ]
  },
  {
   "cell_type": "markdown",
   "metadata": {},
   "source": [
    "**Exercice 3 :**<br> \n",
    "Soient $x, y, z$ et $t$ des entiers. Donner les expressions booléennes\n",
    "correspondant aux situations suivantes :\n",
    "* Les variables $x, y$ et $z$ sont identiques\n",
    "$$x==y \\,\\, and \\,\\, y==z$$\n",
    "* Les valeurs de $x, y$ et $z$ sont identiques mais différentes de celle de $t$.\n",
    "$$x==y \\,\\, and \\,\\, y==z and \\,\\, x==t$$\n",
    "* Les valeurs de $x$ sont strictement comprises entre $y$ et $t$.\n",
    "$$y<= x <= t$$\n",
    "* Parmi les valeurs de $x, y$ et $z$ deux valeurs au moins sont identiques\n",
    "$$x==y \\,\\, or \\,\\, y==z \\,\\, or \\,\\, x==z$$\n",
    "* $x$ et $y$ ont la même parité.\n",
    "$$ (x+y) \\% 2 == 0$$"
   ]
  },
  {
   "cell_type": "markdown",
   "metadata": {},
   "source": [
    "**Exercice 4 :** <br> \n",
    "Les habitants de paris paient l'impôt selon les règles suivantes :\n",
    "* les hommes de plus de 20 ans paient l'impôt\n",
    "* les femmes paient l'impôt si elles ont entre $18$ et $35$ ans\n",
    "* les autres ne paient pas d'impôt\n",
    "\n",
    "Le programme demandera donc  l'âge et le sexe ($M$ ou $F$) du parisien, et se prononcera donc ensuite sur le fait que l'habitant est imposable."
   ]
  },
  {
   "cell_type": "raw",
   "metadata": {},
   "source": [
    "Exemple d’exécution :\n",
    "\t>>> donner l'âge : 25\n",
    "\t>>> donner le sexe : M\n",
    "\t>>> le citoyen est imposable"
   ]
  },
  {
   "cell_type": "code",
   "execution_count": 8,
   "metadata": {},
   "outputs": [
    {
     "name": "stdout",
     "output_type": "stream",
     "text": [
      "Entrez votre age : 44\n",
      "Entrez votre sexe : F\n",
      "le citoyen n'est pas imposable\n"
     ]
    }
   ],
   "source": [
    "age=int(input(\"Entrez votre age : \"))\n",
    "sexe=input(\"Entrez votre sexe : \")\n",
    "if sexe=='M' and age>=20:\n",
    "    print(\"le citoyen est imposable\")\n",
    "elif sexe=='F' and 18<=age<=35:\n",
    "    print(\"le citoyen est imposable\")\n",
    "else:\n",
    "    print(\"le citoyen n'est pas imposable\")"
   ]
  },
  {
   "cell_type": "markdown",
   "metadata": {},
   "source": [
    "**Exercice 5 :**<br> \n",
    "Écrire un programme qui fait la résolution des équations du premier\n",
    "degré de la forme :\n",
    "$$aX+b = 0, \\quad \\quad a,b \\in \\mathbb{R}.$$"
   ]
  },
  {
   "cell_type": "code",
   "execution_count": 11,
   "metadata": {},
   "outputs": [
    {
     "name": "stdout",
     "output_type": "stream",
     "text": [
      "donner a: 3\n",
      "donner b: 6\n",
      "la solution est :  -2.0\n"
     ]
    }
   ],
   "source": [
    "a=float(input(\"donner a: \"))\n",
    "b=float(input(\"donner b: \"))\n",
    "if a==0 and b==0:\n",
    "    print(\"la solution est IR\")\n",
    "elif a==0 and b!=0:\n",
    "    print(\"la solution est l'enseble vide\")\n",
    "else:\n",
    "    print(\"la solution est : \",-b/a)"
   ]
  },
  {
   "cell_type": "markdown",
   "metadata": {},
   "source": [
    "**Exercice 6 :**<br>\n",
    "Écrire un programme qui fait la résolution dans $\\mathbb{R}$ des équations du second degré de la forme :\n",
    "$$aX^2+bX + c = 0, \\quad \\quad a\\in \\mathbb{R}^* \\text{ et } b,c \\in \\mathbb{R}.$$\n"
   ]
  },
  {
   "cell_type": "code",
   "execution_count": 19,
   "metadata": {},
   "outputs": [
    {
     "name": "stdout",
     "output_type": "stream",
     "text": [
      "donner a#0 : 1\n",
      "donner b: 1\n",
      "donner a: 1\n",
      "pas de solution dans IR\n"
     ]
    }
   ],
   "source": [
    "from math import*\n",
    "a=float(input(\"donner a#0 : \"))\n",
    "b=float(input(\"donner b: \"))\n",
    "c=float(input(\"donner a: \"))\n",
    "if a!=0:\n",
    "    delta=b**2-4*a*c\n",
    "    if delta>0:\n",
    "        x1=(-b-sqrt(delta))/(2*a)\n",
    "        x2=(-b+sqrt(delta))/(2*a)\n",
    "        print(\"les solutions sont x1=\",x1,\"x2=\",x2)\n",
    "    elif delta==0:\n",
    "        print(\"la solution est x=\",-b/(2*a))\n",
    "    else:\n",
    "        print(\"pas de solution dans IR\")"
   ]
  },
  {
   "cell_type": "markdown",
   "metadata": {},
   "source": [
    "## Boucle While"
   ]
  },
  {
   "cell_type": "markdown",
   "metadata": {},
   "source": [
    "**Exercice 7 :** <br> \n",
    "Écrire un programme qui calcule le reste de la division entière d'un entier positif $A$ sur un entier strictement positif $B$ entrés par l'utilisateur sans utiliser les deux opérateurs \"//:division et \\%: modulo\"."
   ]
  },
  {
   "cell_type": "code",
   "execution_count": 22,
   "metadata": {},
   "outputs": [
    {
     "name": "stdout",
     "output_type": "stream",
     "text": [
      "donner A : 20\n",
      "donner B : 5\n",
      "le quotient est : 4\n",
      "le reste est : 0\n"
     ]
    }
   ],
   "source": [
    "A=int(input(\"donner A : \"))\n",
    "B=int(input(\"donner B : \"))\n",
    "q=0\n",
    "while A>=B:\n",
    "    q=q+1\n",
    "    A=A-B\n",
    "print(\"le quotient est :\",q)\n",
    "print(\"le reste est :\",A)"
   ]
  },
  {
   "cell_type": "markdown",
   "metadata": {},
   "source": [
    "**Exercice 8 :** <br> \n",
    "Écrire un programme qui calcule le **PGCD** (Plus Grand Diviseur Commun) de deux nombres entiers strictement positif $a$ et $b$ entrés par l'utilisateur."
   ]
  },
  {
   "cell_type": "code",
   "execution_count": 25,
   "metadata": {},
   "outputs": [
    {
     "name": "stdout",
     "output_type": "stream",
     "text": [
      "donner a :24\n",
      "donner b :14\n",
      "Le PGCD est  2\n"
     ]
    }
   ],
   "source": [
    "a=int(input(\"donner a :\"))\n",
    "b=int(input(\"donner b :\"))\n",
    "while b!=0:\n",
    "    r=a%b\n",
    "    a=b\n",
    "    b=r\n",
    "print(\"Le PGCD est \",a)"
   ]
  },
  {
   "cell_type": "markdown",
   "metadata": {},
   "source": [
    "**Exercice 9 :** <br> \n",
    "Calculez le nombre lu à rebours d'un nombre positif entré au clavier."
   ]
  },
  {
   "cell_type": "raw",
   "metadata": {},
   "source": [
    "Exemple : \n",
    ">>> donner un nombre : 12345\n",
    ">>> 54321"
   ]
  },
  {
   "cell_type": "code",
   "execution_count": 30,
   "metadata": {},
   "outputs": [
    {
     "name": "stdout",
     "output_type": "stream",
     "text": [
      "donner un nombre :2345\n",
      "Le nombre lu à rebours est  5432\n"
     ]
    }
   ],
   "source": [
    "a=int(input(\"donner un nombre :\"))\n",
    "s=0\n",
    "while a!=0:\n",
    "    r=a%10\n",
    "    s=10*s+r\n",
    "    a=a//10\n",
    "print(\"Le nombre lu à rebours est \",s)"
   ]
  },
  {
   "cell_type": "markdown",
   "metadata": {},
   "source": [
    "**Exercice 10: Approximation de la racine carrée** <br>\n",
    "On cherche à calculez la racine carrée $X$ d'un nombre réel positif $a$ par approximations successives en utilisant la relation de récurrence suivante :\n",
    "$$X_1 = a, \\quad \\quad X_{n+1} =\\dfrac{1}{2}(X_n + \\dfrac{a}{X_n}).$$ \n",
    "La précision du calcul $E$ est donné par l'utilisateur. \n",
    "\n",
    "1. Assurez-vous lors de l'introduction des données que la valeur pour $a$ est un réel positif et que $E$ est un réel positif plus petit que $1$. "
   ]
  },
  {
   "cell_type": "raw",
   "metadata": {},
   "source": [
    "Exemple :\n",
    ">>> donner un nombre positif a : -2\n",
    ">>> donner un nombre positif a : 2\n",
    ">>> donner une précision E : 55\n",
    ">>> donner une précision E : -55\n",
    ">>> donner une précision E : 0.01\n",
    ">>> La valeur approchée du racine carré de 2 est 1.4142"
   ]
  },
  {
   "cell_type": "markdown",
   "metadata": {},
   "source": [
    "2. Affichez lors du calcul toutes les approximations calculées : \\\\"
   ]
  },
  {
   "cell_type": "raw",
   "metadata": {},
   "source": [
    "La 1ère approximation de la racine carrée de ... est ...\\\\\n",
    "La 2e   approximation de la racine carrée de ... est ...\\\\\n",
    "La 3e   approximation de la racine carrée de ... est ..."
   ]
  },
  {
   "cell_type": "code",
   "execution_count": 33,
   "metadata": {},
   "outputs": [
    {
     "name": "stdout",
     "output_type": "stream",
     "text": [
      "donner un reel pour calculer sa racine reelle : 2\n",
      "donner une precision : 0.00001\n",
      "Approximation N° 1 de la racine carrée de 2.0 est 1.5\n",
      "Approximation N° 2 de la racine carrée de 2.0 est 1.4166666666666665\n",
      "Approximation N° 3 de la racine carrée de 2.0 est 1.4142156862745097\n",
      "Approximation N° 4 de la racine carrée de 2.0 est 1.4142135623746899\n",
      "la valeur approchée du racine carrée de  2.0 est :  1.4142135623746899\n"
     ]
    }
   ],
   "source": [
    "# Question 1\n",
    "a=float(input(\"donner un reel pour calculer sa racine reelle : \"))\n",
    "while(a<0):\n",
    "    a=float(input(\"donner un reel pour calculer sa racine reelle : \"))\n",
    "E=float(input(\"donner une precision : \"))\n",
    "while(E<=0 or E>=1):\n",
    "    E=float(input(\"donner une precision : \"))\n",
    "#Question 2\n",
    "X=a\n",
    "err=1\n",
    "i=1\n",
    "while err>E:\n",
    "    Y=(X+a/X)/2\n",
    "    print(\"Approximation N°\",i,\"de la racine carrée de\",a,\"est\",Y)\n",
    "    err=abs(Y-X)\n",
    "    X=Y\n",
    "    i=i+1\n",
    "print(\"la valeur approchée du racine carrée de \",a,\"est : \",X)"
   ]
  },
  {
   "cell_type": "markdown",
   "metadata": {},
   "source": [
    "**Exercice 11: (Simulation d'un jeu de hasard)** <br>\n",
    "Un jeu de hasard se déroule de la façon suivante: On paie 2 euros pour jouer puis on lance 2 dés non truqués.\n",
    "Si le joueur obtient un double, il récupère sa mise et reçoit la somme des points marqués. Sinon il ne reçoit rien et perd sa mise. \n",
    "1. Écrire un programme pour simuler ce jeu une seule fois.<br>\n",
    "**N.B :** On peut utiliser la fonction  **random.randint(1,6)** du module **random** pour générer un entier aléatoire dans $[1,6]$ de la façon suivante :"
   ]
  },
  {
   "cell_type": "raw",
   "metadata": {},
   "source": [
    "import random\n",
    "x=random.randint(1,6) # x contient maintenant un entier entre 1 et 6. "
   ]
  },
  {
   "cell_type": "markdown",
   "metadata": {},
   "source": [
    "2. Écrire un programme qui permet de compter le nombre de fois qu'on gagne parmi $n$ tentatives ($n$ étant saisie par l'utilisateur). \n",
    "3. Conseilleriez-vous ce jeu?"
   ]
  },
  {
   "cell_type": "code",
   "execution_count": 37,
   "metadata": {},
   "outputs": [
    {
     "name": "stdout",
     "output_type": "stream",
     "text": [
      "vous avez perdu\n"
     ]
    }
   ],
   "source": [
    "#Question 1 :\n",
    "import random\n",
    "d1=random.randint(1,6)\n",
    "d2=random.randint(1,6)\n",
    "if(d1==d2):\n",
    "    print(\"vous avez gagné\")\n",
    "else :\n",
    "    print(\"vous avez perdu\")"
   ]
  },
  {
   "cell_type": "code",
   "execution_count": 50,
   "metadata": {},
   "outputs": [
    {
     "name": "stdout",
     "output_type": "stream",
     "text": [
      "donner le nombre de tentatives : 10000\n",
      "Vous avez gagner 1661 parmis 10000 tentatives\n",
      "La pourcentage pour gagner est  16.61\n"
     ]
    }
   ],
   "source": [
    "#Question 2 :\n",
    "import random\n",
    "n=int(input(\"donner le nombre de tentatives : \"))\n",
    "i=0\n",
    "gagne=0\n",
    "while(i<=n):    \n",
    "    d1=random.randint(1,6)\n",
    "    d2=random.randint(1,6)\n",
    "    if(d1==d2):\n",
    "        gagne+=1\n",
    "    i+=1\n",
    "print(\"Vous avez gagner\",gagne,\"parmis\",n,\"tentatives\")\n",
    "print(\"La pourcentage pour gagner est \",gagne/n*100)"
   ]
  },
  {
   "cell_type": "code",
   "execution_count": 49,
   "metadata": {},
   "outputs": [
    {
     "data": {
      "text/plain": [
       "'Le pourcentage pour gagner est très faible, donc on ne conseille pas ce jeu.'"
      ]
     },
     "execution_count": 49,
     "metadata": {},
     "output_type": "execute_result"
    }
   ],
   "source": [
    "#Question 3\n",
    "\"\"\"Le pourcentage pour gagner est très faible, donc on ne conseille pas ce jeu.\"\"\""
   ]
  },
  {
   "cell_type": "markdown",
   "metadata": {},
   "source": [
    "**Exercice 12: (Facteurs premiers)** <br>\n",
    "Écrire un programme qui décompose un nombre entier en un produit de facteurs premiers."
   ]
  },
  {
   "cell_type": "raw",
   "metadata": {},
   "source": [
    "Exemple : \n",
    ">>> donner un entier : 8\n",
    ">>> n est positif, suite du programme\n",
    ">>> facteur trouvé: 2\n",
    ">>> facteur trouvé: 2\n",
    ">>> facteur trouvé: 2\n",
    ">>> Fin du programme"
   ]
  },
  {
   "cell_type": "code",
   "execution_count": 52,
   "metadata": {},
   "outputs": [
    {
     "name": "stdout",
     "output_type": "stream",
     "text": [
      "donner un entier : 140\n",
      "facteur trouvé 2\n",
      "facteur trouvé 2\n",
      "facteur trouvé 5\n",
      "facteur trouvé 7\n"
     ]
    }
   ],
   "source": [
    "N=int(input(\"donner un entier : \"))\n",
    "d=2\n",
    "while(N!=1):\n",
    "    while(N%d==0):\n",
    "        N=N//d\n",
    "        print(\"facteur trouvé\",d)\n",
    "    d=d+1"
   ]
  },
  {
   "cell_type": "markdown",
   "metadata": {},
   "source": [
    "## Boucle for"
   ]
  },
  {
   "cell_type": "markdown",
   "metadata": {},
   "source": [
    "**Exercice 13:** <br>\n",
    "Écrire un programme qui lit n nombres réels et affiche leur moyenne."
   ]
  },
  {
   "cell_type": "code",
   "execution_count": 3,
   "metadata": {},
   "outputs": [
    {
     "name": "stdout",
     "output_type": "stream",
     "text": [
      "Donner n : 3\n",
      "Donner un nombre : 2\n",
      "Donner un nombre : 3\n",
      "Donner un nombre : 4\n",
      "La moyenne des nombres est :  3.0\n"
     ]
    }
   ],
   "source": [
    "n=int(input(\"Donner n : \"))\n",
    "moy=0\n",
    "for i in range(n):\n",
    "    a=int(input(\"Donner un nombre : \"))\n",
    "    moy+=a/n\n",
    "print('La moyenne des nombres est : ',moy)"
   ]
  },
  {
   "cell_type": "markdown",
   "metadata": {},
   "source": [
    "**Exercice 14: (Nombre premier)** <br>\n",
    "1. Écrire un programme qui détermine si un nombre entier >2 entré par l’utilisateur est premier ou non."
   ]
  },
  {
   "cell_type": "code",
   "execution_count": 7,
   "metadata": {},
   "outputs": [
    {
     "name": "stdout",
     "output_type": "stream",
     "text": [
      "Donner un entier n : 11\n",
      "Le nombre 11 est premier\n"
     ]
    }
   ],
   "source": [
    "n=int(input(\"Donner un entier n : \"))\n",
    "d=0\n",
    "for i in range(1,n+1):\n",
    "    if n%i==0:\n",
    "        d+=1\n",
    "if d!=2:\n",
    "    print(\"Le nombre\",n,\"n'est pas premier\")\n",
    "else:\n",
    "    print(\"Le nombre\",n,\"est premier\")"
   ]
  },
  {
   "cell_type": "markdown",
   "metadata": {},
   "source": [
    "2. Afficher tous les nombres premiers qui sont inférieurs ou égal à 100."
   ]
  },
  {
   "cell_type": "code",
   "execution_count": 9,
   "metadata": {},
   "outputs": [
    {
     "name": "stdout",
     "output_type": "stream",
     "text": [
      "Le nombre 2 est premier\n",
      "Le nombre 3 est premier\n",
      "Le nombre 5 est premier\n",
      "Le nombre 7 est premier\n",
      "Le nombre 11 est premier\n",
      "Le nombre 13 est premier\n",
      "Le nombre 17 est premier\n",
      "Le nombre 19 est premier\n",
      "Le nombre 23 est premier\n",
      "Le nombre 29 est premier\n",
      "Le nombre 31 est premier\n",
      "Le nombre 37 est premier\n",
      "Le nombre 41 est premier\n",
      "Le nombre 43 est premier\n",
      "Le nombre 47 est premier\n",
      "Le nombre 53 est premier\n",
      "Le nombre 59 est premier\n",
      "Le nombre 61 est premier\n",
      "Le nombre 67 est premier\n",
      "Le nombre 71 est premier\n",
      "Le nombre 73 est premier\n",
      "Le nombre 79 est premier\n",
      "Le nombre 83 est premier\n",
      "Le nombre 89 est premier\n",
      "Le nombre 97 est premier\n"
     ]
    }
   ],
   "source": [
    "for n in range(0,101):\n",
    "    d=0\n",
    "    for i in range(1,n+1):\n",
    "        if n%i==0:\n",
    "            d+=1\n",
    "    if d==2:\n",
    "        print(\"Le nombre\",n,\"est premier\")"
   ]
  },
  {
   "cell_type": "markdown",
   "metadata": {},
   "source": [
    "**Exercice 15 :(Nombre Parfait)**<br>\n",
    "1. Écrire un programme qui détermine si un entier > 2 saisi par l’utilisateur est parfait ou\n",
    "non.<br>\n",
    "**N.B :** Un nombre est parfait si égal à la somme de ses diviseurs stricte (sauf lui-même).\n",
    "N = 6 est parfait car 6 = 1 + 2 + 3."
   ]
  },
  {
   "cell_type": "code",
   "execution_count": 11,
   "metadata": {},
   "outputs": [
    {
     "name": "stdout",
     "output_type": "stream",
     "text": [
      "donner n :6\n",
      "le nombre 6 est parfait\n"
     ]
    }
   ],
   "source": [
    "n=int(input(\"donner n :\"))\n",
    "s=0\n",
    "for i in range(1,n):\n",
    "    if n%i==0:\n",
    "        s+=i\n",
    "if s==n:\n",
    "    print(\"le nombre\",n,\"est parfait\")"
   ]
  },
  {
   "cell_type": "markdown",
   "metadata": {},
   "source": [
    "2. Afficher tous les nombres parfaits qui sont inférieurs ou égal à 100."
   ]
  },
  {
   "cell_type": "code",
   "execution_count": 13,
   "metadata": {},
   "outputs": [
    {
     "name": "stdout",
     "output_type": "stream",
     "text": [
      "le nombre 6 est parfait\n",
      "le nombre 28 est parfait\n"
     ]
    }
   ],
   "source": [
    "for n in range(1,101):\n",
    "    s=0\n",
    "    for i in range(1,n):\n",
    "        if n%i==0:\n",
    "            s+=i\n",
    "    if s==n:\n",
    "        print(\"le nombre\",n,\"est parfait\")"
   ]
  },
  {
   "cell_type": "markdown",
   "metadata": {},
   "source": [
    "**Exercice 16 :**\n",
    "Écrire un programme qui lit n nombres entiers et détermine quel est le max de ces nombres."
   ]
  },
  {
   "cell_type": "code",
   "execution_count": 17,
   "metadata": {},
   "outputs": [
    {
     "name": "stdout",
     "output_type": "stream",
     "text": [
      "donner n : 3\n",
      "donner un  nombre : -3\n",
      "donner un  nombre : -5\n",
      "donner un  nombre : -2\n",
      "le maximum de ces nombres est -2\n"
     ]
    }
   ],
   "source": [
    "from math import inf\n",
    "n=int(input(\"donner n : \"))\n",
    "maxi=-inf\n",
    "for i in range(n):\n",
    "    a=int(input(\"donner un  nombre : \"))\n",
    "    if a>maxi:\n",
    "        maxi=a\n",
    "print(\"le maximum de ces nombres est\",maxi)"
   ]
  },
  {
   "cell_type": "markdown",
   "metadata": {},
   "source": [
    "**Exercice 17:** <br>\n",
    "Écrire un programme qui lit n nombres entiers et détermine est ce que ces entiers ont été\n",
    "entrés triés dans un ordre croissant."
   ]
  },
  {
   "cell_type": "code",
   "execution_count": 20,
   "metadata": {},
   "outputs": [
    {
     "name": "stdout",
     "output_type": "stream",
     "text": [
      "donner n : 4\n",
      "donner un  nombre : 5\n",
      "donner un  nombre : 3\n",
      "donner un  nombre : 6\n",
      "donner un  nombre : 8\n",
      "Les nombres entrés ne sont pas dans l'ordre croisdsant.\n"
     ]
    }
   ],
   "source": [
    "from math import inf\n",
    "n=int(input(\"donner n : \"))\n",
    "croissant=True\n",
    "a=-inf\n",
    "for i in range(n):\n",
    "    b=int(input(\"donner un  nombre : \"))\n",
    "    if b<a:\n",
    "        croissant=False\n",
    "    a=b\n",
    "if croissant:\n",
    "    print(\"Les nombres entrés sont dans l'ordre croisdsant.\")\n",
    "else:\n",
    "    print(\"Les nombres entrés ne sont pas dans l'ordre croisdsant.\")"
   ]
  },
  {
   "cell_type": "markdown",
   "metadata": {},
   "source": [
    "## Fonction "
   ]
  },
  {
   "cell_type": "markdown",
   "metadata": {},
   "source": [
    "**Exercice 18:**<br>\n",
    "1. Écrire une fonction MINI(a,b) et une fonction MAXI(a,b) qui déterminent le minimum et le maximum de deux nombres réels"
   ]
  },
  {
   "cell_type": "code",
   "execution_count": 21,
   "metadata": {},
   "outputs": [],
   "source": [
    "mini=lambda a,b: a if a<b else b\n",
    "maxi=lambda a,b: a if a>b else b"
   ]
  },
  {
   "cell_type": "markdown",
   "metadata": {},
   "source": [
    "2. Écrire un programme se servant des fonctions MINI et MAXI pour déterminer le minimum et le maximum de quatre nombres réels entrés au clavier."
   ]
  },
  {
   "cell_type": "code",
   "execution_count": 26,
   "metadata": {},
   "outputs": [],
   "source": [
    "mini4=lambda a,b,c,d: mini(mini(a,b),mini(c,d))\n",
    "maxi4=lambda a,b,c,d: maxi(maxi(a,b),maxi(c,d))"
   ]
  },
  {
   "cell_type": "code",
   "execution_count": 28,
   "metadata": {},
   "outputs": [
    {
     "data": {
      "text/plain": [
       "1"
      ]
     },
     "execution_count": 28,
     "metadata": {},
     "output_type": "execute_result"
    }
   ],
   "source": [
    "mini4(1,3,5,9)"
   ]
  },
  {
   "cell_type": "code",
   "execution_count": 29,
   "metadata": {},
   "outputs": [
    {
     "data": {
      "text/plain": [
       "9"
      ]
     },
     "execution_count": 29,
     "metadata": {},
     "output_type": "execute_result"
    }
   ],
   "source": [
    "maxi4(1,3,5,9)"
   ]
  },
  {
   "cell_type": "markdown",
   "metadata": {},
   "source": [
    "**Exercice 19 :**<br>\n",
    "Écrire une fonction qui permet d’afficher la table de valeurs d’une fonction f . Par exemple si $f(x) = \\sin(x) + \\ln(x) −\\sqrt(x)$, Où x est un entier compris entre 1 et 10."
   ]
  },
  {
   "cell_type": "code",
   "execution_count": 34,
   "metadata": {},
   "outputs": [],
   "source": [
    "def table_val(f):\n",
    "    for x in range(1,11):\n",
    "        print(\"x=\",x,\"\\t f(x) : \",f(x))"
   ]
  },
  {
   "cell_type": "code",
   "execution_count": 35,
   "metadata": {},
   "outputs": [
    {
     "name": "stdout",
     "output_type": "stream",
     "text": [
      "x= 1 \t f(x) :  -0.1585290151921035\n",
      "x= 2 \t f(x) :  0.18823104501253174\n",
      "x= 3 \t f(x) :  -0.4923185108409003\n",
      "x= 4 \t f(x) :  -1.3705081341880376\n",
      "x= 5 \t f(x) :  -1.5855543397288279\n",
      "x= 6 \t f(x) :  -0.9371457717540488\n",
      "x= 7 \t f(x) :  -0.0428545632904882\n",
      "x= 8 \t f(x) :  0.24037266355702736\n",
      "x= 9 \t f(x) :  -0.3906569374220239\n",
      "x= 10 \t f(x) :  -1.4037136780637034\n"
     ]
    }
   ],
   "source": [
    "from math import sin, log,sqrt\n",
    "f=lambda x : sin(x)+log(x)-sqrt(x)\n",
    "table_val(f)"
   ]
  },
  {
   "cell_type": "markdown",
   "metadata": {},
   "source": [
    "**Exercice 20 :**<br>\n",
    "Écrire une fonction qui compte le nombre de voyelles (minuscules, sans accents) dans une\n",
    "chaîne de caractères u passée en argument :"
   ]
  },
  {
   "cell_type": "raw",
   "metadata": {},
   "source": [
    ">>> Donner une chaine : dut idsd 1 est essaouira\n",
    ">>> le nombre de voyelle est : 9"
   ]
  },
  {
   "cell_type": "code",
   "execution_count": 38,
   "metadata": {},
   "outputs": [],
   "source": [
    "def nb_voyelle(u):\n",
    "    s=0\n",
    "    for e in u:\n",
    "        if e in 'aeyuio':\n",
    "            s+=1\n",
    "    return s"
   ]
  },
  {
   "cell_type": "code",
   "execution_count": 39,
   "metadata": {},
   "outputs": [
    {
     "data": {
      "text/plain": [
       "11"
      ]
     },
     "execution_count": 39,
     "metadata": {},
     "output_type": "execute_result"
    }
   ],
   "source": [
    "nb_voyelle(\"hello dut idsd_1 est essaouira\")"
   ]
  },
  {
   "cell_type": "markdown",
   "metadata": {},
   "source": [
    "**Exercice 21 :**<br>\n",
    "En utilisant une boucle while, écrire la fonction **logarithme_binaire(a)**, qui accepte comme\n",
    "paramètre un réel strictement positif et qui donne comme résultat :\n",
    "n entier naturel<br>\n",
    "min{ n entier naturel, $2^n > a$}."
   ]
  },
  {
   "cell_type": "code",
   "execution_count": 66,
   "metadata": {},
   "outputs": [],
   "source": [
    "def logarithme_binaire(a):\n",
    "    n=1\n",
    "    while(2**n<=a):\n",
    "        n=n+1\n",
    "    return n"
   ]
  },
  {
   "cell_type": "code",
   "execution_count": 67,
   "metadata": {},
   "outputs": [
    {
     "data": {
      "text/plain": [
       "4"
      ]
     },
     "execution_count": 67,
     "metadata": {},
     "output_type": "execute_result"
    }
   ],
   "source": [
    "#appel \n",
    "logarithme_binaire(8)"
   ]
  },
  {
   "cell_type": "code",
   "execution_count": 68,
   "metadata": {},
   "outputs": [
    {
     "data": {
      "text/plain": [
       "6"
      ]
     },
     "execution_count": 68,
     "metadata": {},
     "output_type": "execute_result"
    }
   ],
   "source": [
    "logarithme_binaire(32)"
   ]
  },
  {
   "cell_type": "markdown",
   "metadata": {},
   "source": [
    "**Exercice 22 :**<br>\n",
    "1. Écrire une fonction premier(n) qui renvoie True si un entier naturel n est premier ou False sinon."
   ]
  },
  {
   "cell_type": "code",
   "execution_count": 69,
   "metadata": {},
   "outputs": [],
   "source": [
    "def  premier(n):\n",
    "    if n<2:\n",
    "        return False\n",
    "    for i in range(2,n):\n",
    "        if n%i==0:\n",
    "            return False\n",
    "    return True"
   ]
  },
  {
   "cell_type": "code",
   "execution_count": 70,
   "metadata": {},
   "outputs": [
    {
     "data": {
      "text/plain": [
       "False"
      ]
     },
     "execution_count": 70,
     "metadata": {},
     "output_type": "execute_result"
    }
   ],
   "source": [
    "#appel\n",
    "premier(15)"
   ]
  },
  {
   "cell_type": "code",
   "execution_count": 71,
   "metadata": {},
   "outputs": [
    {
     "data": {
      "text/plain": [
       "True"
      ]
     },
     "execution_count": 71,
     "metadata": {},
     "output_type": "execute_result"
    }
   ],
   "source": [
    "premier(11)"
   ]
  },
  {
   "cell_type": "markdown",
   "metadata": {},
   "source": [
    "2. En utilisant une boucle while, écrire une fonction plus_petit(n) qui, à un entier naturel n>2, associe son plus petit diviseur premier."
   ]
  },
  {
   "cell_type": "code",
   "execution_count": 72,
   "metadata": {},
   "outputs": [],
   "source": [
    "def plus_petit(n):\n",
    "    for i in range(1,n+1):\n",
    "        if n%i==0 and premier(i)==True:\n",
    "            return i"
   ]
  },
  {
   "cell_type": "code",
   "execution_count": 73,
   "metadata": {},
   "outputs": [
    {
     "name": "stdout",
     "output_type": "stream",
     "text": [
      "5\n"
     ]
    }
   ],
   "source": [
    "print(plus_petit(35))"
   ]
  },
  {
   "cell_type": "markdown",
   "metadata": {},
   "source": [
    "**Exercice 23 :**<br>\n",
    "un palindrome est un mot ou groupe de mots qui peut se lire indifféremment de gauche à droite\n",
    "ou de droite à gauche (ex. radar, rotor, kayak, Roma Amor).\n",
    "Écrire une fonction def **estPalindrome(chaine)** qui retourne vrai si la chaine est un palindrome."
   ]
  },
  {
   "cell_type": "code",
   "execution_count": 74,
   "metadata": {},
   "outputs": [],
   "source": [
    "def estPalindrome (chaine):\n",
    "    nb=len(chaine)\n",
    "    i,j=0,nb-1\n",
    "    while(i!=j):\n",
    "        if chaine[i]!=chaine[j]:\n",
    "            return False\n",
    "        else:\n",
    "            i=i+1\n",
    "            j=j-1\n",
    "    return True"
   ]
  },
  {
   "cell_type": "code",
   "execution_count": 75,
   "metadata": {},
   "outputs": [
    {
     "data": {
      "text/plain": [
       "False"
      ]
     },
     "execution_count": 75,
     "metadata": {},
     "output_type": "execute_result"
    }
   ],
   "source": [
    "#appel   \n",
    "estPalindrome (\"aabbcc\")"
   ]
  },
  {
   "cell_type": "code",
   "execution_count": 76,
   "metadata": {},
   "outputs": [
    {
     "data": {
      "text/plain": [
       "True"
      ]
     },
     "execution_count": 76,
     "metadata": {},
     "output_type": "execute_result"
    }
   ],
   "source": [
    "estPalindrome (\"aaabaaa\")"
   ]
  },
  {
   "cell_type": "markdown",
   "metadata": {},
   "source": [
    "**Exercice 24 :**<br>\n",
    "La valeur de $\\pi$ peut être calculée en utilisant la série suivante:\n",
    "$$m(i)=4\\big(1-\\dfrac{1}{3}+\\dfrac{1}{5}-\\dfrac{1}{7}+\\ldots +\\dfrac{(-1)^{i+1}}{2i-1}  \\big)$$\n",
    "Écrire une fonction qui renvoie $m (i)$ pour un $i$ donné et écrire un programme de test qui affiche le tableau suivant :"
   ]
  },
  {
   "cell_type": "raw",
   "metadata": {},
   "source": [
    "i\t\t m(i)\n",
    "---------------\n",
    "1 \t \t 4.0\n",
    "101 \t 3.1514934010709914\n",
    "201 \t 3.1465677471829556\n",
    "301 \t 3.1449149035588526\n",
    "401 \t 3.144086415298761\n",
    "501 \t 3.143588659585789\n",
    "601 \t 3.143256545948974\n",
    "701 \t 3.1430191863875865\n",
    "801 \t 3.142841092554028\n",
    "901 \t 3.1427025311614294\t\t"
   ]
  },
  {
   "cell_type": "code",
   "execution_count": 77,
   "metadata": {},
   "outputs": [
    {
     "name": "stdout",
     "output_type": "stream",
     "text": [
      "i :\t m(i) : \n",
      "1 \t 4.0\n",
      "101 \t 3.1514934010709914\n",
      "201 \t 3.1465677471829556\n",
      "301 \t 3.1449149035588526\n",
      "401 \t 3.144086415298761\n",
      "501 \t 3.143588659585789\n",
      "601 \t 3.143256545948974\n",
      "701 \t 3.1430191863875865\n",
      "801 \t 3.142841092554028\n",
      "901 \t 3.1427025311614294\n"
     ]
    }
   ],
   "source": [
    "def  m(n):\n",
    "    s=0\n",
    "    for i in range(1,n+1):\n",
    "        s=s+(-1)**(i+1)/(2*i-1)\n",
    "    return 4*s\n",
    "#Affichage et appel\n",
    "print(\"i :\\t\",\"m(i) : \")\n",
    "for i in range(1,1000,100):\n",
    "    print(i,\"\\t\",m(i))"
   ]
  },
  {
   "cell_type": "markdown",
   "metadata": {},
   "source": [
    "**Exercice 25:(Méthode de Newton)**<br>\n",
    "Supposons que l'on souhaite résoudre numériquement l'équation \n",
    "$$f(x)=0.$$\n",
    "La méthode consiste à écrire une solution $x^*$ comme point fixe d'une fonction $F$, choisie de manière à être contractante, avec le meilleur rapport de contraction possible sur un intervalle contenant le point fixe.\\\\\n",
    "Supposons que $f$ soit une application dérivable de $\\mathbb{R}$ dans $\\mathbb{R}$, et que l'on connaisse une valeur $x_0$ pas trop éloignée de la solution. Si $f’$ ne s'annule pas au voisinage de la solution, on peut définir la suite suivante qui converge vers la solution $x^*$\n",
    "$$x_0, \\text{ donnée }$$\n",
    "$$x_{n+1}=x_n-\\dfrac{f(x_n)}{f'(x_n)}.$$\n",
    "Exemple : pour $f(x)=x^2-2$ et $x_0=2$, la suite $(x_n)_n$ converge vers la valeur $\\sqrt{2}=1,4142..$\\vskip 0.1cm\n",
    "Écrire une fonction \\textbf{newton(f,x0)} qui permet de calculer la solution de l'équation $f(x)=0$ par l'itération de Newton.\\vskip 0.05cm\n",
    "\n",
    "**N.B** : vous pouvez utilisez la dérivée numérique  $f’(x_k)=\\dfrac{f(x_k+h)-f(xk)}{h}$, avec  $h << 1$."
   ]
  },
  {
   "cell_type": "code",
   "execution_count": 85,
   "metadata": {},
   "outputs": [
    {
     "name": "stdout",
     "output_type": "stream",
     "text": [
      "la solution de l'équation f(x)=0 est : 1.414213562374277\n"
     ]
    }
   ],
   "source": [
    "def derivee(f,x,h=1e-10):\n",
    "    return (f(x+h)-f(x))/h\n",
    "\n",
    "def newton(f,x0):\n",
    "    err=1\n",
    "    u=x0\n",
    "    while(err>1e-4):\n",
    "        v=u-f(u)/derivee(f,u)\n",
    "        err=abs(v-u)\n",
    "        u=v\n",
    "    return v\n",
    "#appel\n",
    "f=lambda x :x**2-2\n",
    "x0=2\n",
    "print(\"la solution de l'équation f(x)=0 est :\",newton(f,x0))"
   ]
  },
  {
   "cell_type": "code",
   "execution_count": 86,
   "metadata": {},
   "outputs": [
    {
     "data": {
      "text/plain": [
       "3.3431035717512714e-12"
      ]
     },
     "execution_count": 86,
     "metadata": {},
     "output_type": "execute_result"
    }
   ],
   "source": [
    "f(1.414213562374277)"
   ]
  },
  {
   "cell_type": "markdown",
   "metadata": {},
   "source": [
    "## Fin du TP1"
   ]
  }
 ],
 "metadata": {
  "kernelspec": {
   "display_name": "Python 3",
   "language": "python",
   "name": "python3"
  },
  "language_info": {
   "codemirror_mode": {
    "name": "ipython",
    "version": 3
   },
   "file_extension": ".py",
   "mimetype": "text/x-python",
   "name": "python",
   "nbconvert_exporter": "python",
   "pygments_lexer": "ipython3",
   "version": "3.7.1"
  }
 },
 "nbformat": 4,
 "nbformat_minor": 2
}
