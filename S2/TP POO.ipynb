{
 "cells": [
  {
   "cell_type": "markdown",
   "metadata": {},
   "source": [
    "## TP - POO en Python"
   ]
  },
  {
   "cell_type": "markdown",
   "metadata": {},
   "source": [
    "### Exercice 1\n",
    "#### Partie 1"
   ]
  },
  {
   "cell_type": "markdown",
   "metadata": {},
   "source": [
    "Considérons une classe appelée **Point** ayant les attributs suivants :\n",
    "- x : un attribut de type float\n",
    "- y : un attribut de type float"
   ]
  },
  {
   "cell_type": "markdown",
   "metadata": {},
   "source": [
    "1. Définissez la classe **Point** et un constructeur à deux paramètres\n",
    "2. Définissez les getters et setters pour les deux attributs.\n",
    "3. Définissez la méthode **\\_\\_str__()** qui retourne la représentation mathématique d’un point : (x,y).\n",
    "4. Ecrivez la méthode **calculer_distance(self, p)** qui permet de calculer la distance entre le point de l’objet courant (self) et l’objet **p** passé en paramètre.\n",
    "5. Ecrivez la méthode **calculer_milieu(self, p)** qui permet de calculer et de retourner un objet correspondant au milieu du segment défini par le point de l’objet courant (self) et l’objet Point **p** passé en paramètre."
   ]
  },
  {
   "cell_type": "code",
   "execution_count": 1,
   "metadata": {},
   "outputs": [],
   "source": [
    "class Point:\n",
    "    def __init__(self,a=0,b=0):\n",
    "        pass\n",
    "    def getx(self):\n",
    "        pass\n",
    "    def setx(self,a):\n",
    "        pass\n",
    "    def gety(self):\n",
    "        pass\n",
    "    def sety(self,b):\n",
    "        pass\n",
    "    def __str__(self):\n",
    "        pass\n",
    "    def calculer_distance(self, p):\n",
    "        pass\n",
    "    def calculer_milieu(self, p):\n",
    "        pass"
   ]
  },
  {
   "cell_type": "code",
   "execution_count": 2,
   "metadata": {},
   "outputs": [
    {
     "name": "stdout",
     "output_type": "stream",
     "text": [
      "(0.0,3.0)\n"
     ]
    }
   ],
   "source": [
    "p=Point(2,3)\n",
    "m=Point(-2,3)\n",
    "print(p.calculer_milieu(m))"
   ]
  },
  {
   "cell_type": "markdown",
   "metadata": {},
   "source": [
    "#### Partie 2\n",
    "Consid´erons maintenant une deuxième classe appelée **TroisPoints** ayant comme attributs **trois objets de type Point (p1,p2 et p3).**\n",
    "6. Définissez cette classe et un constructeur acceptant trois paramètres (par défaut le point (0,0)).\n",
    "7. Ecrivez une méthode **sont_alignes(self)** qui retourne True si les trois points p1, p2 et p3 sont alignés, False sinon. Nous rappelons que trois points A, B et C sont alignés si **AB = AC + BC, AC = AB + BC ou BC = AC + AB**.\n",
    "8. Ecrivez une méthode **est_isocele(self)** qui retourne True si les trois points p1, p2 et p3 forment un triangle isocèle, False sinon. Nous rappelons qu’un triangle ABC est isocèle si **AB = AC ou AB = BC ou BC = AC.**\n"
   ]
  },
  {
   "cell_type": "code",
   "execution_count": 2,
   "metadata": {},
   "outputs": [],
   "source": [
    "class TroisPoints:\n",
    "    def __init__(self,a=Point(0,0),b=Point(0,0),c=Point(0,0)):\n",
    "        pass\n",
    "    def sont_alignes(self):\n",
    "        pass\n",
    "    def est_isocele(self):\n",
    "        pass"
   ]
  },
  {
   "cell_type": "code",
   "execution_count": 11,
   "metadata": {},
   "outputs": [
    {
     "data": {
      "text/plain": [
       "True"
      ]
     },
     "execution_count": 11,
     "metadata": {},
     "output_type": "execute_result"
    }
   ],
   "source": [
    "T=TroisPoints(p,m)\n",
    "T.est_isocele()"
   ]
  },
  {
   "cell_type": "markdown",
   "metadata": {},
   "source": [
    "### Exercice 2"
   ]
  },
  {
   "cell_type": "markdown",
   "metadata": {},
   "source": [
    "Considérons les deux classes **Personne** et **Adresse**. Les attributs de la classe Adresse sont :\n",
    "- **rue** : un attribut de type chaîne de caractères.\n",
    "- **ville** : un attribut de type chaîne de caractères.\n",
    "- **code postal** : un attribut de type entier.\n",
    "\n",
    "Les attributs de la classe **Personne** sont :\n",
    "- **nom** : un attribut de type chaîne de caractères.\n",
    "- **sexe** : un attribut de type chaîne de caractères (cet attribut aura comme valeur soit ’M’ soit ’F’).\n",
    "- **adresse** : un attribut de type objet de la classe Adresse.\n"
   ]
  },
  {
   "cell_type": "markdown",
   "metadata": {},
   "source": [
    "1. Créez les deux classes **Adresse** et **Personne**. N'oubliez pas de définir la méthode **\\_\\_repr__**."
   ]
  },
  {
   "cell_type": "code",
   "execution_count": 3,
   "metadata": {},
   "outputs": [],
   "source": [
    "class Adresse:\n",
    "    def __init__(self,a,b,c):\n",
    "        pass\n",
    "    def __repr__(self):\n",
    "        pass\n",
    "\n",
    "\n",
    "class Personne:\n",
    "    def __init__(self,a,b,c):\n",
    "        pass\n",
    "    def __repr__(self):\n",
    "        pass"
   ]
  },
  {
   "cell_type": "markdown",
   "metadata": {},
   "source": [
    "2. Créez une troisième classe **ListePersonnes** ayant un seul attribut **Pers** : une liste d’objets Personne(initialement vide). Définissez les getters/setters et la méthode **\\_\\_repr__**.\n",
    "\n",
    "\n",
    "3. Ecrivez la méthode **find_by_nom(self,s) qui permet de chercher dans le tableau personnes si l’attribut nom d’un est égal à la valeur du paramètre **s**. Si c’est le cas, elle retourne le premier objet correspondant, sinon **None**.\n",
    "\n",
    "\n",
    "4. Ecrivez la méthode **exists_code_postal(self,cp) qui permet de vérifier dans le tableau personnes si un objet possède une adresse dont le code postal égal au paramètre **cp**. Si c’est le cas, elle retourne **True**, sinon **False**.\n",
    "\n",
    "\n",
    "5. Ecrivez la méthode **count_personne_ville(self,ville)** qui permet de calculer le nombre d’objets dans le tableau personnes ayant une adresse dans la ville passée en paramètre.\n",
    "\n",
    "\n",
    "6. Ecrivez la méthode **edit_personne_nom(self, oldNom, newNom)** qui remplace les noms de personnes ayant un nom égal à la valeur oldNom par newNom.\n",
    "\n",
    "\n",
    "7. Ecrivez la méthode **edit_personne_ville(self, nom, newVille)** qui remplace les villes de personnes ayant un nom égal à la valeur du paramètre nom par newVille.\n",
    "\n",
    "\n",
    "8. Testez toutes les méthodes réalisées dans les questions précédentes."
   ]
  },
  {
   "cell_type": "code",
   "execution_count": 4,
   "metadata": {},
   "outputs": [],
   "source": [
    "class ListePersonne:\n",
    "    def __init__(self):\n",
    "        pass\n",
    "    def setPersonne(self,p):\n",
    "        pass\n",
    "    def getPersonne(self,i=-1):\n",
    "        pass\n",
    "    def find_by_nom(self,s):\n",
    "        pass\n",
    "    def exists_code_postal(self,cp):\n",
    "        pass\n",
    "    def count_personne_ville(self,ville):\n",
    "        pass\n",
    "    def edit_personne_nom(self,oldNom,newNom):\n",
    "        pass\n",
    "    def edit_personne_ville(self,nom,newVille):\n",
    "        pass"
   ]
  },
  {
   "cell_type": "code",
   "execution_count": null,
   "metadata": {},
   "outputs": [],
   "source": []
  }
 ],
 "metadata": {
  "kernelspec": {
   "display_name": "Python 3",
   "language": "python",
   "name": "python3"
  },
  "language_info": {
   "codemirror_mode": {
    "name": "ipython",
    "version": 3
   },
   "file_extension": ".py",
   "mimetype": "text/x-python",
   "name": "python",
   "nbconvert_exporter": "python",
   "pygments_lexer": "ipython3",
   "version": "3.7.6"
  }
 },
 "nbformat": 4,
 "nbformat_minor": 4
}
