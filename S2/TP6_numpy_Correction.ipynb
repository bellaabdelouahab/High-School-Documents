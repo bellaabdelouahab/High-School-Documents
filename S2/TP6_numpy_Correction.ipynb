{
 "cells": [
  {
   "cell_type": "code",
   "execution_count": 1,
   "metadata": {},
   "outputs": [],
   "source": [
    "import numpy as np"
   ]
  },
  {
   "cell_type": "markdown",
   "metadata": {},
   "source": [
    "## Exercice 0"
   ]
  },
  {
   "cell_type": "code",
   "execution_count": 36,
   "metadata": {},
   "outputs": [],
   "source": [
    "v1=np.array([5,9,1,3])\n",
    "v2=2*np.ones((1,20))\n",
    "v3=np.linspace(1,16,16)    #v3=np.arange(1,17)\n",
    "v4=np.arange(28,11,-2)"
   ]
  },
  {
   "cell_type": "markdown",
   "metadata": {},
   "source": [
    "## Exercice 1"
   ]
  },
  {
   "cell_type": "code",
   "execution_count": 47,
   "metadata": {},
   "outputs": [
    {
     "data": {
      "text/plain": [
       "array([[ 2., 11., 11., 11., 11.],\n",
       "       [11.,  2., 11., 11., 11.],\n",
       "       [11., 11.,  2., 11., 11.],\n",
       "       [11., 11., 11.,  2., 11.],\n",
       "       [11., 11., 11., 11.,  2.]])"
      ]
     },
     "execution_count": 47,
     "metadata": {},
     "output_type": "execute_result"
    }
   ],
   "source": [
    "def matrice_carre(n,a,b):\n",
    "    M=(a-b)*np.eye(n)+b*np.ones((n,n))\n",
    "    return M\n",
    "#test\n",
    "matrice_carre(5,2,11)"
   ]
  },
  {
   "cell_type": "markdown",
   "metadata": {},
   "source": [
    "## Exercice 2"
   ]
  },
  {
   "cell_type": "code",
   "execution_count": 50,
   "metadata": {},
   "outputs": [
    {
     "data": {
      "text/plain": [
       "110"
      ]
     },
     "execution_count": 50,
     "metadata": {},
     "output_type": "execute_result"
    }
   ],
   "source": [
    "A=np.arange(0,11,0.1)\n",
    "len(A)"
   ]
  },
  {
   "cell_type": "code",
   "execution_count": 53,
   "metadata": {},
   "outputs": [
    {
     "data": {
      "text/plain": [
       "array([0.        , 0.09174312, 0.18348624, 0.27522936, 0.36697248,\n",
       "       0.4587156 , 0.55045872, 0.64220183, 0.73394495, 0.82568807])"
      ]
     },
     "execution_count": 53,
     "metadata": {},
     "output_type": "execute_result"
    }
   ],
   "source": [
    "A=np.linspace(0,10,110)\n",
    "A[:10]"
   ]
  },
  {
   "cell_type": "code",
   "execution_count": 65,
   "metadata": {
    "scrolled": false
   },
   "outputs": [
    {
     "data": {
      "text/plain": [
       "array([[ 4., -1.,  0.,  0.,  0.,  0.],\n",
       "       [-1.,  4., -1.,  0.,  0.,  0.],\n",
       "       [ 0., -1.,  4., -1.,  0.,  0.],\n",
       "       [ 0.,  0., -1.,  4., -1.,  0.],\n",
       "       [ 0.,  0.,  0., -1.,  4., -1.],\n",
       "       [ 0.,  0.,  0.,  0., -1.,  4.]])"
      ]
     },
     "execution_count": 65,
     "metadata": {},
     "output_type": "execute_result"
    }
   ],
   "source": [
    "def tridiag(a, b, c,n):\n",
    "    d=b*np.ones(n)\n",
    "    l=a*np.ones(n-1)\n",
    "    u=c*np.ones(n-1)\n",
    "    return np.diag(l, -1) + np.diag(d, 0) + np.diag(u, 1)\n",
    "#test\n",
    "tridiag(-1,4,-1,6)"
   ]
  },
  {
   "cell_type": "markdown",
   "metadata": {},
   "source": [
    "## Exercice 4"
   ]
  },
  {
   "cell_type": "code",
   "execution_count": 71,
   "metadata": {},
   "outputs": [
    {
     "data": {
      "text/plain": [
       "15"
      ]
     },
     "execution_count": 71,
     "metadata": {},
     "output_type": "execute_result"
    }
   ],
   "source": [
    "def somme(n):\n",
    "    return np.sum(np.arange(1,n+1))\n",
    "#test\n",
    "somme(5)"
   ]
  },
  {
   "cell_type": "code",
   "execution_count": 72,
   "metadata": {},
   "outputs": [
    {
     "data": {
      "text/plain": [
       "1.4636111111111112"
      ]
     },
     "execution_count": 72,
     "metadata": {},
     "output_type": "execute_result"
    }
   ],
   "source": [
    "def somme2(n):\n",
    "    return np.sum(1/np.arange(1,n+1)**2)\n",
    "#test\n",
    "somme2(5)"
   ]
  },
  {
   "cell_type": "markdown",
   "metadata": {},
   "source": [
    "## Exercice 5"
   ]
  },
  {
   "cell_type": "code",
   "execution_count": 100,
   "metadata": {},
   "outputs": [
    {
     "data": {
      "text/plain": [
       "array([ 2.23606798,  5.        ,  7.81024968, 10.63014581, 13.45362405])"
      ]
     },
     "execution_count": 100,
     "metadata": {},
     "output_type": "execute_result"
    }
   ],
   "source": [
    "def normes(cord):\n",
    "    m,n=cord.shape\n",
    "    if m==2:\n",
    "        L=[np.linalg.norm(cord[:,i]) for i in range(n)]\n",
    "        return np.array(L)\n",
    "    elif n==2:\n",
    "        L=[np.linalg.norm(cord[i,:]) for i in range(m)]\n",
    "        return np.array(L)\n",
    "#test\n",
    "cord=np.arange(1,11).reshape(-1,2)\n",
    "normes(cord)"
   ]
  },
  {
   "cell_type": "markdown",
   "metadata": {},
   "source": [
    "## Exercice 6"
   ]
  },
  {
   "cell_type": "code",
   "execution_count": 96,
   "metadata": {},
   "outputs": [],
   "source": [
    "A=np.random.randint(1,36,(4,9))"
   ]
  },
  {
   "cell_type": "code",
   "execution_count": 98,
   "metadata": {},
   "outputs": [
    {
     "data": {
      "text/plain": [
       "array([[ 0,  0,  0,  0,  0,  0,  0,  0,  0],\n",
       "       [ 0, 27, 31, 15, 18, 16, 24, 24,  0],\n",
       "       [ 0, 20, 19,  6,  4,  9,  5, 26,  0],\n",
       "       [ 0,  0,  0,  0,  0,  0,  0,  0,  0]])"
      ]
     },
     "execution_count": 98,
     "metadata": {},
     "output_type": "execute_result"
    }
   ],
   "source": [
    "A[:,0],A[:,8],A[0,:],A[3,:]=0,0,0,0\n",
    "A"
   ]
  },
  {
   "cell_type": "code",
   "execution_count": null,
   "metadata": {},
   "outputs": [],
   "source": []
  }
 ],
 "metadata": {
  "kernelspec": {
   "display_name": "Python 3",
   "language": "python",
   "name": "python3"
  },
  "language_info": {
   "codemirror_mode": {
    "name": "ipython",
    "version": 3
   },
   "file_extension": ".py",
   "mimetype": "text/x-python",
   "name": "python",
   "nbconvert_exporter": "python",
   "pygments_lexer": "ipython3",
   "version": "3.7.6"
  }
 },
 "nbformat": 4,
 "nbformat_minor": 4
}
