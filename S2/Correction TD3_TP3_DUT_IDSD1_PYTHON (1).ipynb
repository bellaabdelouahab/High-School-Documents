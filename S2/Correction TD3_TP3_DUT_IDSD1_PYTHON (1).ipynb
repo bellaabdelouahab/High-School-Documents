{
 "cells": [
  {
   "cell_type": "markdown",
   "metadata": {},
   "source": [
    "## Tuple\n",
    "**Exercice : 1**\n",
    "1. Écrire une fonction **zip(L1,L2)** en python, prenant deux listes en argument, retourne une liste de tuples comme suit :"
   ]
  },
  {
   "cell_type": "raw",
   "metadata": {},
   "source": [
    "Exemple\n",
    ">>> x , y = [1, 2, 3] , [4, 5]\n",
    ">>>zip(x, y)\n",
    "[(1, 4), (2, 5)]"
   ]
  },
  {
   "cell_type": "code",
   "execution_count": 3,
   "metadata": {},
   "outputs": [],
   "source": [
    "def zip(L1,L2):\n",
    "    M=[]\n",
    "    for i in range(min(len(L1),len(L2))):\n",
    "        M.append((L1[i],L2[i]))\n",
    "    return M           "
   ]
  },
  {
   "cell_type": "code",
   "execution_count": 4,
   "metadata": {},
   "outputs": [
    {
     "data": {
      "text/plain": [
       "[(1, 4), (2, 5)]"
      ]
     },
     "execution_count": 4,
     "metadata": {},
     "output_type": "execute_result"
    }
   ],
   "source": [
    "x , y = [1, 2, 3] , [4, 5]\n",
    "zip(x, y)"
   ]
  },
  {
   "cell_type": "markdown",
   "metadata": {},
   "source": [
    "2. Écrire une fonction **unzip(L)** effectuant l'opération inverse de la fonction \\textit{zip} "
   ]
  },
  {
   "cell_type": "raw",
   "metadata": {},
   "source": [
    ">>> lst = [(1, 2), (3,4)]\n",
    ">>>  a , b = unzip(lst)\n",
    ">>>  a \n",
    "[1 , 3]"
   ]
  },
  {
   "cell_type": "code",
   "execution_count": 5,
   "metadata": {},
   "outputs": [],
   "source": [
    "def unzip(L):\n",
    "    T,M=[],[]\n",
    "    for e in L:\n",
    "        T.append(e[0])\n",
    "        M.append(e[1])\n",
    "    return T,M"
   ]
  },
  {
   "cell_type": "code",
   "execution_count": 6,
   "metadata": {},
   "outputs": [
    {
     "data": {
      "text/plain": [
       "([1, 3], [2, 4])"
      ]
     },
     "execution_count": 6,
     "metadata": {},
     "output_type": "execute_result"
    }
   ],
   "source": [
    "lst = [(1, 2), (3,4)]\n",
    "unzip(lst)"
   ]
  },
  {
   "cell_type": "markdown",
   "metadata": {},
   "source": [
    "## Chaîne de caractères\n",
    "**Exercice 2:** \n",
    "\n",
    "Un **ISBN**(International Standard Book Number) est un numéro à $10$ chiffres utilisé pour identifier un livre. Les neuf premiers chiffres du numéro ISBN sont utilisés pour représenter le titre, l'éditeur et le groupe du livre et le dernier chiffre est utilisé pour vérifier si l'ISBN est correct ou non. Les 9 premiers chiffres peuvent prendre n'importe quelle valeur entre 0 et 9, mais le dernier chiffre peuvent parfois prendre une valeur égale à 10; cela se fait en l'écrivant comme 'X'.\n",
    "\n",
    "Pour vérifier un $ISBN=d_1d_2d_3d_4d_5d_6d_7d_8d_9d_X$, on  calcule la somme :\n",
    "$$S=10\\times d_1+9\\times d_2+8\\times d_3+7\\times d_4+6\\times d_5+5\\times d_6+4\\times d_7+3\\times d_8+2\\times d_9+d_X$$\n",
    "Si $S$ est divisible par 11, le code est un ISBN valide.\n",
    "\\begin{verbatim}"
   ]
  },
  {
   "cell_type": "raw",
   "metadata": {},
   "source": [
    ">>> ISBN('007462542X')\n",
    "valide\n",
    ">>> ISBN('0112112425')\n",
    "Invalide\n",
    "\\end{verbatim}"
   ]
  },
  {
   "cell_type": "code",
   "execution_count": 7,
   "metadata": {},
   "outputs": [],
   "source": [
    "def ISBN(N):\n",
    "    n=len(N)\n",
    "    if n!=10:\n",
    "        return 'Invalide'\n",
    "    s=0\n",
    "    for i in range(n-1):\n",
    "        s+=int(N[i])*(10-i)\n",
    "    if N[-1]=='X':\n",
    "        s+=10\n",
    "    else:\n",
    "        s+=int(N[-1])\n",
    "    if s%11==0:\n",
    "        return 'Valide'\n",
    "    return 'Invalide'"
   ]
  },
  {
   "cell_type": "code",
   "execution_count": 8,
   "metadata": {},
   "outputs": [
    {
     "data": {
      "text/plain": [
       "'Valide'"
      ]
     },
     "execution_count": 8,
     "metadata": {},
     "output_type": "execute_result"
    }
   ],
   "source": [
    "ISBN('007462542X')"
   ]
  },
  {
   "cell_type": "code",
   "execution_count": 9,
   "metadata": {},
   "outputs": [
    {
     "data": {
      "text/plain": [
       "'Invalide'"
      ]
     },
     "execution_count": 9,
     "metadata": {},
     "output_type": "execute_result"
    }
   ],
   "source": [
    "ISBN('0112112425')"
   ]
  },
  {
   "cell_type": "markdown",
   "metadata": {},
   "source": [
    "**Exercice 3 : La distance de Hamming**\n",
    "\n",
    "**1) La distance de Hamming entre deux chaînes de caractères.**"
   ]
  },
  {
   "cell_type": "markdown",
   "metadata": {},
   "source": [
    "La distance de Hamming entre deux chaînes de caractères de mêmes longueurs est égale au nombre de caractères, à la même position, qui sont différents.<br>\n",
    "**Exemples :**<br>\n",
    "* La distance de Hamming entre \"**sure**\" et \"**cure**\" est 1.\n",
    "* La distance de Hamming entre \"**aabbcc**\" et \"**xaybzc**\" est 3.\n",
    "\n",
    "    1. Écrire une fonction **distanceH(S1, S2)** qui calcule et retourne la distance de Hamming entre $S1$ et $S2$ (les paramètres S1 et S2 sont deux chaînes de caractères de même longueur)."
   ]
  },
  {
   "cell_type": "code",
   "execution_count": 13,
   "metadata": {},
   "outputs": [],
   "source": [
    "def distanceH(S1,S2):\n",
    "    if len(S1)!=len(S2):\n",
    "        return -1\n",
    "    s=0\n",
    "    for i in range(len(S1)):\n",
    "        if S1[i]!=S2[i]:\n",
    "            s+=1\n",
    "    return s"
   ]
  },
  {
   "cell_type": "code",
   "execution_count": 14,
   "metadata": {},
   "outputs": [
    {
     "data": {
      "text/plain": [
       "1"
      ]
     },
     "execution_count": 14,
     "metadata": {},
     "output_type": "execute_result"
    }
   ],
   "source": [
    "distanceH(\"sure\",\"cure\")"
   ]
  },
  {
   "cell_type": "code",
   "execution_count": 15,
   "metadata": {},
   "outputs": [
    {
     "data": {
      "text/plain": [
       "3"
      ]
     },
     "execution_count": 15,
     "metadata": {},
     "output_type": "execute_result"
    }
   ],
   "source": [
    "distanceH(\"aabbcc\",\"xaybzc\")"
   ]
  },
  {
   "cell_type": "markdown",
   "metadata": {},
   "source": [
    "**2) La distance de Hamming d'un langage.**<br>\n",
    "On appellera langage, une liste des chaînes de caractères toutes de même longueur. La distance de  Hamming d'un langage est égale au minimum des distances de Hamming entre deux chaînes de caractères de ce langage différentes deux à deux.<br>\n",
    "**Exemple :** Si langage =[\"aabb\",\"xayy\",\"tghy\",\"xgyy\"], sa distance de est égale à 1."
   ]
  },
  {
   "cell_type": "markdown",
   "metadata": {},
   "source": [
    "2. Écrire une fonction **distanceH_langage(L)** qui calcule et retourne la distance de Hamming de son paramètre $L$."
   ]
  },
  {
   "cell_type": "code",
   "execution_count": 16,
   "metadata": {},
   "outputs": [],
   "source": [
    "def distanceH_langage(L):\n",
    "    M=[]\n",
    "    n=len(L)\n",
    "    for i in range(n-1):\n",
    "        for j in range(i+1,n):\n",
    "            d=distanceH(L[i],L[j])\n",
    "            M.append(d)\n",
    "    return min(M)"
   ]
  },
  {
   "cell_type": "code",
   "execution_count": 17,
   "metadata": {},
   "outputs": [
    {
     "data": {
      "text/plain": [
       "1"
      ]
     },
     "execution_count": 17,
     "metadata": {},
     "output_type": "execute_result"
    }
   ],
   "source": [
    "distanceH_langage([\"aabb\",\"xayy\",\"tghy\",\"xgyy\"])"
   ]
  },
  {
   "cell_type": "markdown",
   "metadata": {},
   "source": [
    "**3) La distance de Hamming entre 2 nombres entiers positifs.** <br>\n",
    "La distance de  Hamming entre 2 nombres entiers positifs est le nombre de bits distincts dans leurs représentations binaire.<br>\n",
    "**Exemple :** La distance de Hamming entre les nombres $7$ et $4$ est $2$ (7 est représenté en binaire sur un octet (8bits) par $'00000111'$ et 4 est représenté en binaire par $'00000100'$"
   ]
  },
  {
   "cell_type": "markdown",
   "metadata": {},
   "source": [
    "3. Écrire une fonction **binaire(N)** qui retourne une chaîne de caractères représentant la valeur binaire de $N$ sur un octet ( on suppose que $0<=N<256$)."
   ]
  },
  {
   "cell_type": "code",
   "execution_count": 18,
   "metadata": {},
   "outputs": [],
   "source": [
    "def binaire(N):\n",
    "    ch=\"\"\n",
    "    for i in range(8):\n",
    "        ch=str(N%2)+ch\n",
    "        N=N//2\n",
    "    return ch"
   ]
  },
  {
   "cell_type": "code",
   "execution_count": 20,
   "metadata": {},
   "outputs": [
    {
     "data": {
      "text/plain": [
       "'00000111'"
      ]
     },
     "execution_count": 20,
     "metadata": {},
     "output_type": "execute_result"
    }
   ],
   "source": [
    "binaire(7)"
   ]
  },
  {
   "cell_type": "markdown",
   "metadata": {},
   "source": [
    "4. Écrire une fonction **distanceNombre(A, B)** qui calcule la distance de Hamming entre les nombres $A$ et $B$ (on suppose que 0<=A<256 et 0<=B<256)"
   ]
  },
  {
   "cell_type": "code",
   "execution_count": 21,
   "metadata": {},
   "outputs": [],
   "source": [
    "def distanceNombre(A, B):\n",
    "    return distanceH(binaire(A),binaire(B))"
   ]
  },
  {
   "cell_type": "code",
   "execution_count": 22,
   "metadata": {},
   "outputs": [
    {
     "data": {
      "text/plain": [
       "2"
      ]
     },
     "execution_count": 22,
     "metadata": {},
     "output_type": "execute_result"
    }
   ],
   "source": [
    "distanceNombre(7,4)"
   ]
  },
  {
   "cell_type": "markdown",
   "metadata": {},
   "source": [
    "**Exercice 4: ADN et génôme**<br> \n",
    "On représente un brin d'ADN par une chaîne de caractères qui peut contenir quatre caractères différents : ’A’ (Adénine), ’C’ (Cytosine), ’G’ (Guanine) et ’T’ (Thymine).\n",
    "\n",
    "1. Écrire une fonction **estADN(ch)** qui prend en argument une chaîne de caractères et renvoie **True** si cette chaîne correspond à un brin d'ADN et **False** sinon."
   ]
  },
  {
   "cell_type": "raw",
   "metadata": {},
   "source": [
    ">>> estADN(\"TTGAC\")\n",
    "True\n",
    ">>> estADN(\"AMOG\")\n",
    "False\n",
    ">>> estADN(\"CaTG\")\n",
    "False"
   ]
  },
  {
   "cell_type": "code",
   "execution_count": 23,
   "metadata": {},
   "outputs": [],
   "source": [
    "def estADN(ch):\n",
    "    for e in ch:\n",
    "        if e not in 'ACTG':\n",
    "            return False\n",
    "    return True"
   ]
  },
  {
   "cell_type": "code",
   "execution_count": 24,
   "metadata": {},
   "outputs": [
    {
     "data": {
      "text/plain": [
       "False"
      ]
     },
     "execution_count": 24,
     "metadata": {},
     "output_type": "execute_result"
    }
   ],
   "source": [
    "estADN(\"CaTG\")"
   ]
  },
  {
   "cell_type": "markdown",
   "metadata": {},
   "source": [
    "2. Écrire une fonction **masseMolaire(ch)** qui calcule la masse molaire d'une séquence ADN passée en argument. Chaque lettre a une masse donnée : ’A’ (135 g/mol) ; ’T’ (126 g/mol) ; ’G’ (151 g/mol) ; ’C’ ( 111 g/mol). Par exemple, masseMolaire(\"AGATC\") =135 + 151 + 135 + 126 + 111)=658 g/mol."
   ]
  },
  {
   "cell_type": "code",
   "execution_count": 25,
   "metadata": {},
   "outputs": [],
   "source": [
    "def masseMolaire(ch):\n",
    "    d={'A':135,'T':126,'C':111,'G':151}\n",
    "    if estADN(ch):\n",
    "        s=0\n",
    "        for e in ch:\n",
    "            s+=d[e]\n",
    "        return s\n",
    "    return False\n",
    "        "
   ]
  },
  {
   "cell_type": "code",
   "execution_count": 26,
   "metadata": {},
   "outputs": [
    {
     "data": {
      "text/plain": [
       "658"
      ]
     },
     "execution_count": 26,
     "metadata": {},
     "output_type": "execute_result"
    }
   ],
   "source": [
    "masseMolaire('AGATC')"
   ]
  },
  {
   "cell_type": "markdown",
   "metadata": {},
   "source": [
    "Chaque base possède une base complémentaire avec laquelle elle peut s'associer : \"A\" et \"T\" sont complémentaires, et \"C\" et \"G\" sont complémentaires. \n",
    "3. Écrire une fonction **brinComp(b)** qui étant donné un brin d'ADN $b$ calcule et renvoie son brin complémentaire, c'est à dire le brin constitué des bases complémentaires de $b$."
   ]
  },
  {
   "cell_type": "code",
   "execution_count": 27,
   "metadata": {},
   "outputs": [],
   "source": [
    "def brinComp(b):\n",
    "    if estADN(b):\n",
    "        sh=\"\"\n",
    "        d={'A':'T','T':'A','C':'G','G':'C'}\n",
    "        for e in b:\n",
    "            sh=sh+d[e]\n",
    "        return sh"
   ]
  },
  {
   "cell_type": "raw",
   "metadata": {},
   "source": [
    ">>> brinComp(\"AAGT\")\n",
    "'TTCA'"
   ]
  },
  {
   "cell_type": "code",
   "execution_count": 28,
   "metadata": {},
   "outputs": [
    {
     "data": {
      "text/plain": [
       "'TCTAG'"
      ]
     },
     "execution_count": 28,
     "metadata": {},
     "output_type": "execute_result"
    }
   ],
   "source": [
    "brinComp('AGATC')"
   ]
  },
  {
   "cell_type": "markdown",
   "metadata": {},
   "source": [
    "4. Écrire une fonction **sous_sequence(A, B)** qui prend en argument deux chaînes de caractères représentant des brins d'ADN et renvoie **True** si le premier brin est une sous-séquence du deuxième."
   ]
  },
  {
   "cell_type": "raw",
   "metadata": {},
   "source": [
    ">>> sous_sequence(\"ATC\", \"GGTATCG\")\n",
    "True\n",
    ">>> sous_sequence(\"GC\", \"AAT\")\n",
    "False"
   ]
  },
  {
   "cell_type": "code",
   "execution_count": 32,
   "metadata": {},
   "outputs": [],
   "source": [
    "#Version 1\n",
    "def sous_sequence(A, B):\n",
    "    m,n=len(A),len(B)\n",
    "    for i in range(n-m+1):\n",
    "        if A==B[i:m+i]:\n",
    "            return True\n",
    "    return False"
   ]
  },
  {
   "cell_type": "code",
   "execution_count": 35,
   "metadata": {},
   "outputs": [
    {
     "data": {
      "text/plain": [
       "False"
      ]
     },
     "execution_count": 35,
     "metadata": {},
     "output_type": "execute_result"
    }
   ],
   "source": [
    "sous_sequence(\"TAC\", \"GGTATCG\")"
   ]
  },
  {
   "cell_type": "code",
   "execution_count": 36,
   "metadata": {},
   "outputs": [
    {
     "data": {
      "text/plain": [
       "False"
      ]
     },
     "execution_count": 36,
     "metadata": {},
     "output_type": "execute_result"
    }
   ],
   "source": [
    "sous_sequence(\"GC\", \"AAT\")"
   ]
  },
  {
   "cell_type": "code",
   "execution_count": 9,
   "metadata": {},
   "outputs": [],
   "source": [
    "#Version 2\n",
    "def sous_sequence1(A, B):\n",
    "    m,n=len(A),len(B)\n",
    "    for i in range(n-m+1):\n",
    "        if A[:]==B[i:i+m]:\n",
    "            return True,i+m\n",
    "    return False,-1"
   ]
  },
  {
   "cell_type": "code",
   "execution_count": 10,
   "metadata": {},
   "outputs": [
    {
     "data": {
      "text/plain": [
       "(True, 6)"
      ]
     },
     "execution_count": 10,
     "metadata": {},
     "output_type": "execute_result"
    }
   ],
   "source": [
    "sous_sequence1(\"ATC\", \"GGTATCG\")"
   ]
  },
  {
   "cell_type": "code",
   "execution_count": 11,
   "metadata": {},
   "outputs": [
    {
     "data": {
      "text/plain": [
       "(False, -1)"
      ]
     },
     "execution_count": 11,
     "metadata": {},
     "output_type": "execute_result"
    }
   ],
   "source": [
    "sous_sequence1(\"GC\", \"AAT\")"
   ]
  },
  {
   "cell_type": "markdown",
   "metadata": {},
   "source": [
    "Un gène est une sous-chaîne d'un brin d'ADN qui commence après un triplet $ATG$ et se termine avant un triplet $TAG$, $TAA$, ou $TGA$. De plus, la longueur d'une chaîne de gènes est un multiple de $3$ et le gène ne contient aucun des triplets $ATG$, $TAG$, $TAA$, et $TGA$.\n",
    "5. Écrire une fonction **TrouverGene(CH)** qui affiche tous les gènes dans le brin d'ADN $CH$."
   ]
  },
  {
   "cell_type": "raw",
   "metadata": {},
   "source": [
    ">>> Entrer un génome: TTATGTTTTAAGGATGGGGCGTTAGTT\n",
    "TTT\n",
    "GGGCGT\n",
    ">>> Entrer un génome: TGTGTGTATAT \n",
    "Pas de gènes"
   ]
  },
  {
   "cell_type": "code",
   "execution_count": 1,
   "metadata": {},
   "outputs": [],
   "source": [
    "def TrouverGene(CH):\n",
    "    pass    "
   ]
  },
  {
   "cell_type": "code",
   "execution_count": 3,
   "metadata": {},
   "outputs": [],
   "source": [
    "TrouverGene('TTATGTTTTGATAAGGATGGGGCGTTAGTT')"
   ]
  },
  {
   "cell_type": "markdown",
   "metadata": {},
   "source": [
    "## Dictionnaire\n",
    "**Eexercice 5:**\n",
    "1. Écrivez une fonction  **freqChaine(ch)** qui prend une chaîne de caractères en paramètre et renvoie un dictionnaire contenant pour chaque lettre de la chaîne son nombre d'occurrences."
   ]
  },
  {
   "cell_type": "raw",
   "metadata": {},
   "source": [
    ">>> freqChaine('abbabba!')\n",
    "{ \"a\" : 3 , \"b\" : 4, \"!\": 1}"
   ]
  },
  {
   "cell_type": "code",
   "execution_count": 92,
   "metadata": {},
   "outputs": [],
   "source": [
    "def freqChaine(ch):\n",
    "    d={}\n",
    "    for e in ch:\n",
    "        if e in d:\n",
    "            d[e]+=1\n",
    "        else:\n",
    "            d[e]=1\n",
    "    return d"
   ]
  },
  {
   "cell_type": "code",
   "execution_count": 93,
   "metadata": {},
   "outputs": [
    {
     "data": {
      "text/plain": [
       "{'a': 3, 'b': 4, '!': 1}"
      ]
     },
     "execution_count": 93,
     "metadata": {},
     "output_type": "execute_result"
    }
   ],
   "source": [
    "freqChaine('abbabba!')"
   ]
  },
  {
   "cell_type": "markdown",
   "metadata": {},
   "source": [
    "2. Écrivez une fonction **maxDic(d)** qui prend en paramètre un dictionnaire (dont les valeurs sont des naturels) et renvoie la clé correspondant à la plus grande valeur. "
   ]
  },
  {
   "cell_type": "raw",
   "metadata": {},
   "source": [
    ">>> maxDic({'a': 3, 'b' : 5 , 'c' : 0, 'd' : 10})\n",
    "'d'."
   ]
  },
  {
   "cell_type": "code",
   "execution_count": 45,
   "metadata": {},
   "outputs": [],
   "source": [
    "def maxDic(d):\n",
    "    m=max(d.values())\n",
    "    for e in d:\n",
    "        if d[e]==m:\n",
    "            return e"
   ]
  },
  {
   "cell_type": "code",
   "execution_count": 46,
   "metadata": {},
   "outputs": [
    {
     "data": {
      "text/plain": [
       "'d'"
      ]
     },
     "execution_count": 46,
     "metadata": {},
     "output_type": "execute_result"
    }
   ],
   "source": [
    "maxDic({'a': 3, 'b' : 5 , 'c' : 0, 'd' : 10})"
   ]
  },
  {
   "cell_type": "markdown",
   "metadata": {},
   "source": [
    "3. Écrivez une fonction **triCles(d)** qui prend un dictionnaire (dont les valeurs sont des naturels) et renvoie la liste des clés du dictionnaire par ordre de valeurs décroissantes dans le dictionnaire."
   ]
  },
  {
   "cell_type": "raw",
   "metadata": {},
   "source": [
    ">>> triCles({'a': 3, 'b' : 5 , 'c' : 0, 'd': 10})\n",
    "['d', 'b', 'a', 'c']"
   ]
  },
  {
   "cell_type": "code",
   "execution_count": 1,
   "metadata": {},
   "outputs": [],
   "source": [
    "def triCles(d):\n",
    "    L=[]\n",
    "    for i in range(len(d)):\n",
    "        e=maxDic(d)\n",
    "        L.append(e)\n",
    "        del d[e]\n",
    "    return L"
   ]
  },
  {
   "cell_type": "code",
   "execution_count": 57,
   "metadata": {},
   "outputs": [
    {
     "data": {
      "text/plain": [
       "['d', 'b', 'a', 'c']"
      ]
     },
     "execution_count": 57,
     "metadata": {},
     "output_type": "execute_result"
    }
   ],
   "source": [
    "triCles({'a': 3, 'b' : 5 , 'c' : 0, 'd': 10})"
   ]
  },
  {
   "cell_type": "markdown",
   "metadata": {},
   "source": [
    "**Exercice 7:** Un météorologiste souhaite améliorer l'efficacité du traitement des données qu'il utilise (tableau de température moyenne mensuelle ci-dessous). Son objectif étant de réaliser des traitements statistiques, il décide d'utiliser les structures des données du langage Python. \n",
    "<img src='./image/temp.jpg' />\n",
    "On suppose avoir ces deux variables globales : \n",
    "$$Temperatures=\\{\"France\": [06, 05,\\ldots,08],\\ldots,\"Australie\":[ 35,\\ldots,30]\\}$$\n",
    "$$Mois= [\"Janvier\",\\ldots,\"Décembre\"] $$\n",
    "1. Donner l'instruction permettant d'afficher en France la température du mois de février sous la forme 'France février 05'."
   ]
  },
  {
   "cell_type": "code",
   "execution_count": 1,
   "metadata": {},
   "outputs": [
    {
     "name": "stdout",
     "output_type": "stream",
     "text": [
      "France Fevrier 5\n"
     ]
    }
   ],
   "source": [
    "Temperatures={\"France\": [6, 5,6,7,4,6,3,2,7,11,7,8],\"Italie\": [3,2,7,11,7,8,4,6,6, 5,6,7],\"Australie\":[ 35,11,22,5,22,11,18,33,19,23,34,30]}\n",
    "Mois= [\"Janvier\",\"Fevrier\",\"Mars\",\"Avril\",\"Mai\",\"Juin\",\"Juillet\",\"Aout\",\"Septembre\",\"Octobre\",\"Novembre\",\"Décembre\"]\n",
    "print(list(Temperatures.keys())[0],Mois[1],Temperatures[\"France\"][1])"
   ]
  },
  {
   "cell_type": "markdown",
   "metadata": {},
   "source": [
    "2. Écrire une fonction **AfficheMois(mois)**, ayant pour paramètre le nom d'un mois, et qui affiche pour tous les pays la température du mois comme précédemment."
   ]
  },
  {
   "cell_type": "code",
   "execution_count": 3,
   "metadata": {},
   "outputs": [],
   "source": [
    "def AfficheMois(mois):\n",
    "    i=Mois.index(mois)\n",
    "    for e in Temperatures:\n",
    "        print(e,Temperatures[e][i])"
   ]
  },
  {
   "cell_type": "code",
   "execution_count": 4,
   "metadata": {},
   "outputs": [
    {
     "name": "stdout",
     "output_type": "stream",
     "text": [
      "France 5\n",
      "Italie 2\n",
      "Australie 11\n"
     ]
    }
   ],
   "source": [
    "AfficheMois(\"Fevrier\")"
   ]
  },
  {
   "cell_type": "markdown",
   "metadata": {},
   "source": [
    "Afin de pouvoir modifier ses données, le météorologiste souhaite utiliser deux fonctions que vous implanterez en python:\n",
    "3. La Fonction **AjoutPays(pays, temps)** qui prend comme paramètre le nom d'un pays ainsi que la liste des températures associées à ce pays et l'ajoute au dictionnaire **Temperatures**."
   ]
  },
  {
   "cell_type": "raw",
   "metadata": {},
   "source": [
    ">>> AjoutPays(\"Bresil\",[25,....23])"
   ]
  },
  {
   "cell_type": "code",
   "execution_count": 5,
   "metadata": {},
   "outputs": [],
   "source": [
    "def AjoutPays(pays, temps):\n",
    "    if pays not in Temperatures and len(temps)==12:\n",
    "        Temperatures[pays]=temps"
   ]
  },
  {
   "cell_type": "code",
   "execution_count": 6,
   "metadata": {},
   "outputs": [
    {
     "data": {
      "text/plain": [
       "{'France': [6, 5, 6, 7, 4, 6, 3, 2, 7, 11, 7, 8],\n",
       " 'Italie': [3, 2, 7, 11, 7, 8, 4, 6, 6, 5, 6, 7],\n",
       " 'Australie': [35, 11, 22, 5, 22, 11, 18, 33, 19, 23, 34, 30],\n",
       " 'Bresil': [25, 12, 13, 45, 65, 46, 76, 7, 15, 43, 35, 23]}"
      ]
     },
     "execution_count": 6,
     "metadata": {},
     "output_type": "execute_result"
    }
   ],
   "source": [
    "AjoutPays(\"Bresil\",[25,12,13,45,65,46,76,7,15,43,35,23])\n",
    "Temperatures"
   ]
  },
  {
   "cell_type": "markdown",
   "metadata": {},
   "source": [
    "4. La Fonction **ModificationPaysMois(pays, mois, val)** qui prend comme paramètre d'entrée le nom du pays, le nom du mois, la valeur de la nouvelle température. Cette fonction doit modifier la valeur de la température du pays pour le mois indiqué."
   ]
  },
  {
   "cell_type": "raw",
   "metadata": {},
   "source": [
    ">>> ModificationPaysMois(\"France\",\"Janvier\",08) # doit modifier la valeur de la température en France au mois de Janvier\n",
    "#(ici 08 remplaçant la valeur 06). "
   ]
  },
  {
   "cell_type": "code",
   "execution_count": 7,
   "metadata": {},
   "outputs": [],
   "source": [
    "def ModificationPaysMois(pays, mois, val):\n",
    "    i=Mois.index(mois)\n",
    "    if pays in Temperatures:\n",
    "        Temperatures[pays][i]=val"
   ]
  },
  {
   "cell_type": "code",
   "execution_count": 8,
   "metadata": {},
   "outputs": [
    {
     "data": {
      "text/plain": [
       "{'France': [88, 5, 6, 7, 4, 6, 3, 2, 7, 11, 7, 8],\n",
       " 'Italie': [3, 2, 7, 11, 7, 8, 4, 6, 6, 5, 6, 7],\n",
       " 'Australie': [35, 11, 22, 5, 22, 11, 18, 33, 19, 23, 34, 30],\n",
       " 'Bresil': [25, 12, 13, 45, 65, 46, 76, 7, 15, 43, 35, 23]}"
      ]
     },
     "execution_count": 8,
     "metadata": {},
     "output_type": "execute_result"
    }
   ],
   "source": [
    "ModificationPaysMois(\"France\",\"Janvier\",88)\n",
    "Temperatures"
   ]
  },
  {
   "cell_type": "markdown",
   "metadata": {},
   "source": [
    "5. Donner la fonction **MoyennePays(pays)** qui pour un pays donné en paramètre d'entrée donne la moyenne annuelle des températures."
   ]
  },
  {
   "cell_type": "code",
   "execution_count": 9,
   "metadata": {},
   "outputs": [],
   "source": [
    "def MoyennePays(pays):\n",
    "    return sum(Temperatures[pays])/12"
   ]
  },
  {
   "cell_type": "code",
   "execution_count": 10,
   "metadata": {},
   "outputs": [
    {
     "data": {
      "text/plain": [
       "12.833333333333334"
      ]
     },
     "execution_count": 10,
     "metadata": {},
     "output_type": "execute_result"
    }
   ],
   "source": [
    "MoyennePays(\"France\")"
   ]
  },
  {
   "cell_type": "markdown",
   "metadata": {},
   "source": [
    "6. Donner la fonction **moyenneMois(mois)** qui pour un mois donné (par exemple Mars) donne la moyenne des températures de tous les pays."
   ]
  },
  {
   "cell_type": "code",
   "execution_count": 12,
   "metadata": {},
   "outputs": [],
   "source": [
    "def moyenneMois(mois):\n",
    "    n=len(Temperatures)\n",
    "    i=Mois.index(mois)\n",
    "    moy=0\n",
    "    for e in Temperatures:\n",
    "        moy+=Temperatures[e][i]/n\n",
    "    return moy"
   ]
  },
  {
   "cell_type": "code",
   "execution_count": 13,
   "metadata": {},
   "outputs": [
    {
     "data": {
      "text/plain": [
       "7.5"
      ]
     },
     "execution_count": 13,
     "metadata": {},
     "output_type": "execute_result"
    }
   ],
   "source": [
    "moyenneMois(\"Fevrier\")"
   ]
  },
  {
   "cell_type": "markdown",
   "metadata": {},
   "source": [
    "7. Donner  la  fonction **MoyenneMax()** qui  donne  le  pays  dont  la moyenne annuelle des températures est la plus élevée."
   ]
  },
  {
   "cell_type": "code",
   "execution_count": 15,
   "metadata": {},
   "outputs": [],
   "source": [
    "def MoyenneMax():\n",
    "    maxi=-100\n",
    "    for e in Temperatures:\n",
    "        m=MoyennePays(e)\n",
    "        if m>=maxi:\n",
    "            maxi=m\n",
    "            pays=e\n",
    "    return pays,maxi"
   ]
  },
  {
   "cell_type": "code",
   "execution_count": 16,
   "metadata": {},
   "outputs": [
    {
     "data": {
      "text/plain": [
       "('Bresil', 33.75)"
      ]
     },
     "execution_count": 16,
     "metadata": {},
     "output_type": "execute_result"
    }
   ],
   "source": [
    "MoyenneMax()"
   ]
  },
  {
   "cell_type": "markdown",
   "metadata": {},
   "source": [
    "**Exercice 6: QCM**<br>\n",
    "Dans un premier temps, chaque question est représentée par un dictionnaire $q$ contenant trois champs :\n",
    "* q['question'] est une chaîne qui est la question à poser.\n",
    "* q['correcte'] est la bonne réponse\n",
    "* q['incorrecte'] est la mauvaise réponse\n",
    "Un questionnaire est donc simplement une liste de questions, c'est à dire une liste de dictionnaires."
   ]
  },
  {
   "cell_type": "raw",
   "metadata": {},
   "source": [
    "qs = [\n",
    "       {'question': \"Quelle est la couleur du cheval blanc d'Henry IV ?\",\n",
    "        'correcte': \"blanc\",\n",
    "        'incorrecte': [\"gris\",\"noir\",\"orange\"]},\n",
    "    \n",
    "       {'question': \"2 + 2 = ?\",\n",
    "        'correcte': \"4\",\n",
    "        'incorrecte': [\"42\",\"44\",\"0\"]}\n",
    "     ]"
   ]
  },
  {
   "cell_type": "markdown",
   "metadata": {},
   "source": [
    "1. Écrivez une fonction **question(q)** qui prend une question en argument, et qui : affiche la question, affiche les deux réponses possibles,     lit la réponse de l'utilisateur, affiche \"Bonne réponse !\" ou \"Mauvaise réponse !\" et qui renvoie un \"+1\" ou \"-1\"."
   ]
  },
  {
   "cell_type": "code",
   "execution_count": 23,
   "metadata": {},
   "outputs": [],
   "source": [
    "qs = [\n",
    "       {'question': \"Quelle est la couleur du cheval blanc d'Henry IV ?\",\n",
    "        'correcte': \"blanc\",\n",
    "        'incorrecte': [\"gris\",\"noir\",\"orange\"]},\n",
    "    \n",
    "       {'question': \"2 + 2 = ?\",\n",
    "        'correcte': \"4\",\n",
    "        'incorrecte': [\"42\",\"44\",\"0\"]}\n",
    "     ]\n",
    "from random import shuffle\n",
    "def question(q):\n",
    "    print(\"Q :\",q['question'])\n",
    "    L=q['incorrecte']+[q['correcte']]\n",
    "    shuffle(L)\n",
    "    for e in L:\n",
    "        print(\"-\",e)\n",
    "    rep=input()\n",
    "    if rep==q['correcte']:\n",
    "        print(\"****** 'Bonne réponse' ******\")\n",
    "        return 1\n",
    "    else:\n",
    "        print(\"****** 'Mauvaise réponse' ******\")\n",
    "        return -1"
   ]
  },
  {
   "cell_type": "code",
   "execution_count": 24,
   "metadata": {},
   "outputs": [
    {
     "name": "stdout",
     "output_type": "stream",
     "text": [
      "Q : Quelle est la couleur du cheval blanc d'Henry IV ?\n",
      "- gris\n",
      "- noir\n",
      "- orange\n",
      "- blanc\n",
      "EEE\n",
      "****** 'Mauvaise réponse' ******\n"
     ]
    },
    {
     "data": {
      "text/plain": [
       "-1"
      ]
     },
     "execution_count": 24,
     "metadata": {},
     "output_type": "execute_result"
    }
   ],
   "source": [
    "question(qs[0])"
   ]
  },
  {
   "cell_type": "markdown",
   "metadata": {},
   "source": [
    "2. Écrire une fonction **Quiz(q)** qui permet de poser toute les questions d'un questionnaire $q$ et calcule le score et le renvoie, comme une note sur 100."
   ]
  },
  {
   "cell_type": "code",
   "execution_count": 25,
   "metadata": {},
   "outputs": [],
   "source": [
    "def Quiz(q):\n",
    "    score=0\n",
    "    for i in range(len(q)):\n",
    "        s=question(q[i])\n",
    "        score+=s\n",
    "    return \"Votre Score est :\"+str(score)\n",
    "                   "
   ]
  },
  {
   "cell_type": "code",
   "execution_count": 26,
   "metadata": {},
   "outputs": [
    {
     "name": "stdout",
     "output_type": "stream",
     "text": [
      "Q : Quelle est la couleur du cheval blanc d'Henry IV ?\n",
      "- gris\n",
      "- blanc\n",
      "- noir\n",
      "- orange\n",
      "EEE\n",
      "****** 'Mauvaise réponse' ******\n",
      "Q : 2 + 2 = ?\n",
      "- 42\n",
      "- 44\n",
      "- 4\n",
      "- 0\n",
      "R\n",
      "****** 'Mauvaise réponse' ******\n"
     ]
    },
    {
     "data": {
      "text/plain": [
       "'Votre Score est :-2'"
      ]
     },
     "execution_count": 26,
     "metadata": {},
     "output_type": "execute_result"
    }
   ],
   "source": [
    "Quiz(qs)"
   ]
  },
  {
   "cell_type": "markdown",
   "metadata": {},
   "source": [
    "Toujours poser les questions dans le même ordre n'est pas une très bonne idée. Pour mélanger les questions, vous pouvez utiliser la méthode \"shuffle\" de la bibliothèque \"random\". Cette méthode permet de mélanger une liste existante : "
   ]
  },
  {
   "cell_type": "raw",
   "metadata": {},
   "source": [
    ">>> from random import shuffle\n",
    ">>> t = [1,2,3,4,5,6]\n",
    ">>> shuffle(t)\n",
    ">>> t\n",
    "[5, 6, 1, 4, 3, 2]"
   ]
  },
  {
   "cell_type": "markdown",
   "metadata": {},
   "source": [
    "3. Modifier la fonction **Quiz(q)** pour qu'elle affiche les questions et les réponses dans le désordre."
   ]
  },
  {
   "cell_type": "code",
   "execution_count": 30,
   "metadata": {},
   "outputs": [],
   "source": [
    "from random import shuffle\n",
    "def Quiz_rand(q):\n",
    "    score=0\n",
    "    n=len(q)\n",
    "    L=[i for i in range(n)]\n",
    "    shuffle(L)\n",
    "    k=1\n",
    "    for i in L:\n",
    "        print(\"==== Question N°\",k,\" ====\")\n",
    "        s=question(q[i])\n",
    "        score+=s\n",
    "        k+=1\n",
    "    return \"*****  Votre Score est :\"+str(score)+\" *****\""
   ]
  },
  {
   "cell_type": "code",
   "execution_count": 31,
   "metadata": {},
   "outputs": [
    {
     "name": "stdout",
     "output_type": "stream",
     "text": [
      "==== Question N° 1  ====\n",
      "Q : 2 + 2 = ?\n",
      "- 0\n",
      "- 44\n",
      "- 42\n",
      "- 4\n",
      "4\n",
      "****** 'Bonne réponse' ******\n",
      "==== Question N° 2  ====\n",
      "Q : Quelle est la couleur du cheval blanc d'Henry IV ?\n",
      "- noir\n",
      "- gris\n",
      "- orange\n",
      "- blanc\n",
      "noir\n",
      "****** 'Mauvaise réponse' ******\n"
     ]
    },
    {
     "data": {
      "text/plain": [
       "'*****  Votre Score est :0 *****'"
      ]
     },
     "execution_count": 31,
     "metadata": {},
     "output_type": "execute_result"
    }
   ],
   "source": [
    "Quiz_rand(qs)"
   ]
  },
  {
   "cell_type": "code",
   "execution_count": null,
   "metadata": {},
   "outputs": [],
   "source": []
  }
 ],
 "metadata": {
  "kernelspec": {
   "display_name": "Python 3",
   "language": "python",
   "name": "python3"
  },
  "language_info": {
   "codemirror_mode": {
    "name": "ipython",
    "version": 3
   },
   "file_extension": ".py",
   "mimetype": "text/x-python",
   "name": "python",
   "nbconvert_exporter": "python",
   "pygments_lexer": "ipython3",
   "version": "3.7.1"
  }
 },
 "nbformat": 4,
 "nbformat_minor": 2
}
